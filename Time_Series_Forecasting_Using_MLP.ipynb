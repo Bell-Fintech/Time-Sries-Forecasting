{
  "nbformat": 4,
  "nbformat_minor": 0,
  "metadata": {
    "colab": {
      "name": "Time Series Forecasting Using MLP.ipynb",
      "version": "0.3.2",
      "provenance": []
    },
    "kernelspec": {
      "name": "python3",
      "display_name": "Python 3"
    }
  },
  "cells": [
    {
      "cell_type": "code",
      "metadata": {
        "id": "RoXWh7XTBhNY",
        "colab_type": "code",
        "colab": {}
      },
      "source": [
        "import os\n",
        "import sys\n",
        "import pandas as pd\n",
        "import numpy as np\n",
        "%matplotlib inline\n",
        "import matplotlib.pyplot as plt\n",
        "import seaborn as sns\n",
        "import datetime"
      ],
      "execution_count": 0,
      "outputs": []
    },
    {
      "cell_type": "code",
      "metadata": {
        "id": "4AE8Gk9FBiV-",
        "colab_type": "code",
        "outputId": "f7350af7-d9c0-4f25-dd78-07d85bd9b63d",
        "colab": {
          "resources": {
            "http://localhost:8080/nbextensions/google.colab/files.js": {
              "data": "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",
              "ok": true,
              "headers": [
                [
                  "content-type",
                  "application/javascript"
                ]
              ],
              "status": 200,
              "status_text": ""
            }
          },
          "base_uri": "https://localhost:8080/",
          "height": 75
        }
      },
      "source": [
        "from google.colab import files\n",
        "uploaded = files.upload()"
      ],
      "execution_count": 2,
      "outputs": [
        {
          "output_type": "display_data",
          "data": {
            "text/html": [
              "\n",
              "     <input type=\"file\" id=\"files-1d695458-ac3b-4092-a623-e7e4029631c8\" name=\"files[]\" multiple disabled />\n",
              "     <output id=\"result-1d695458-ac3b-4092-a623-e7e4029631c8\">\n",
              "      Upload widget is only available when the cell has been executed in the\n",
              "      current browser session. Please rerun this cell to enable.\n",
              "      </output>\n",
              "      <script src=\"/nbextensions/google.colab/files.js\"></script> "
            ],
            "text/plain": [
              "<IPython.core.display.HTML object>"
            ]
          },
          "metadata": {
            "tags": []
          }
        },
        {
          "output_type": "stream",
          "text": [
            "Saving prsa.csv to prsa.csv\n"
          ],
          "name": "stdout"
        }
      ]
    },
    {
      "cell_type": "code",
      "metadata": {
        "id": "TVUF67F-BiXl",
        "colab_type": "code",
        "outputId": "fda3beb5-fa78-41f4-d84d-e0c77c97f622",
        "colab": {
          "base_uri": "https://localhost:8080/",
          "height": 199
        }
      },
      "source": [
        "df = pd.read_csv('prsa.csv')\n",
        "df.head()"
      ],
      "execution_count": 3,
      "outputs": [
        {
          "output_type": "execute_result",
          "data": {
            "text/html": [
              "<div>\n",
              "<style scoped>\n",
              "    .dataframe tbody tr th:only-of-type {\n",
              "        vertical-align: middle;\n",
              "    }\n",
              "\n",
              "    .dataframe tbody tr th {\n",
              "        vertical-align: top;\n",
              "    }\n",
              "\n",
              "    .dataframe thead th {\n",
              "        text-align: right;\n",
              "    }\n",
              "</style>\n",
              "<table border=\"1\" class=\"dataframe\">\n",
              "  <thead>\n",
              "    <tr style=\"text-align: right;\">\n",
              "      <th></th>\n",
              "      <th>No</th>\n",
              "      <th>year</th>\n",
              "      <th>month</th>\n",
              "      <th>day</th>\n",
              "      <th>hour</th>\n",
              "      <th>pm2.5</th>\n",
              "      <th>DEWP</th>\n",
              "      <th>TEMP</th>\n",
              "      <th>PRES</th>\n",
              "      <th>cbwd</th>\n",
              "      <th>Iws</th>\n",
              "      <th>Is</th>\n",
              "      <th>Ir</th>\n",
              "    </tr>\n",
              "  </thead>\n",
              "  <tbody>\n",
              "    <tr>\n",
              "      <th>0</th>\n",
              "      <td>1</td>\n",
              "      <td>2010</td>\n",
              "      <td>1</td>\n",
              "      <td>1</td>\n",
              "      <td>0</td>\n",
              "      <td>NaN</td>\n",
              "      <td>-21</td>\n",
              "      <td>-11.0</td>\n",
              "      <td>1021.0</td>\n",
              "      <td>NW</td>\n",
              "      <td>1.79</td>\n",
              "      <td>0</td>\n",
              "      <td>0</td>\n",
              "    </tr>\n",
              "    <tr>\n",
              "      <th>1</th>\n",
              "      <td>2</td>\n",
              "      <td>2010</td>\n",
              "      <td>1</td>\n",
              "      <td>1</td>\n",
              "      <td>1</td>\n",
              "      <td>NaN</td>\n",
              "      <td>-21</td>\n",
              "      <td>-12.0</td>\n",
              "      <td>1020.0</td>\n",
              "      <td>NW</td>\n",
              "      <td>4.92</td>\n",
              "      <td>0</td>\n",
              "      <td>0</td>\n",
              "    </tr>\n",
              "    <tr>\n",
              "      <th>2</th>\n",
              "      <td>3</td>\n",
              "      <td>2010</td>\n",
              "      <td>1</td>\n",
              "      <td>1</td>\n",
              "      <td>2</td>\n",
              "      <td>NaN</td>\n",
              "      <td>-21</td>\n",
              "      <td>-11.0</td>\n",
              "      <td>1019.0</td>\n",
              "      <td>NW</td>\n",
              "      <td>6.71</td>\n",
              "      <td>0</td>\n",
              "      <td>0</td>\n",
              "    </tr>\n",
              "    <tr>\n",
              "      <th>3</th>\n",
              "      <td>4</td>\n",
              "      <td>2010</td>\n",
              "      <td>1</td>\n",
              "      <td>1</td>\n",
              "      <td>3</td>\n",
              "      <td>NaN</td>\n",
              "      <td>-21</td>\n",
              "      <td>-14.0</td>\n",
              "      <td>1019.0</td>\n",
              "      <td>NW</td>\n",
              "      <td>9.84</td>\n",
              "      <td>0</td>\n",
              "      <td>0</td>\n",
              "    </tr>\n",
              "    <tr>\n",
              "      <th>4</th>\n",
              "      <td>5</td>\n",
              "      <td>2010</td>\n",
              "      <td>1</td>\n",
              "      <td>1</td>\n",
              "      <td>4</td>\n",
              "      <td>NaN</td>\n",
              "      <td>-20</td>\n",
              "      <td>-12.0</td>\n",
              "      <td>1018.0</td>\n",
              "      <td>NW</td>\n",
              "      <td>12.97</td>\n",
              "      <td>0</td>\n",
              "      <td>0</td>\n",
              "    </tr>\n",
              "  </tbody>\n",
              "</table>\n",
              "</div>"
            ],
            "text/plain": [
              "   No  year  month  day  hour  pm2.5  DEWP  TEMP    PRES cbwd    Iws  Is  Ir\n",
              "0   1  2010      1    1     0    NaN   -21 -11.0  1021.0   NW   1.79   0   0\n",
              "1   2  2010      1    1     1    NaN   -21 -12.0  1020.0   NW   4.92   0   0\n",
              "2   3  2010      1    1     2    NaN   -21 -11.0  1019.0   NW   6.71   0   0\n",
              "3   4  2010      1    1     3    NaN   -21 -14.0  1019.0   NW   9.84   0   0\n",
              "4   5  2010      1    1     4    NaN   -20 -12.0  1018.0   NW  12.97   0   0"
            ]
          },
          "metadata": {
            "tags": []
          },
          "execution_count": 3
        }
      ]
    },
    {
      "cell_type": "code",
      "metadata": {
        "id": "g5U4_rypBiZ8",
        "colab_type": "code",
        "colab": {}
      },
      "source": [
        "df['datetime'] = df[['year','month','day','hour']].apply(lambda row: datetime.datetime(year=row['year'],month=row['month'],day=row['day'],hour = row['hour']),axis=1)\n",
        "df.sort_values('datetime',ascending=True,inplace=True)"
      ],
      "execution_count": 0,
      "outputs": []
    },
    {
      "cell_type": "code",
      "metadata": {
        "id": "iGQ5hm0nBihg",
        "colab_type": "code",
        "outputId": "0d1e66b5-d4c9-46af-fae3-bf4ab316eeb0",
        "colab": {
          "base_uri": "https://localhost:8080/",
          "height": 199
        }
      },
      "source": [
        "df.head()"
      ],
      "execution_count": 0,
      "outputs": [
        {
          "output_type": "execute_result",
          "data": {
            "text/html": [
              "<div>\n",
              "<style scoped>\n",
              "    .dataframe tbody tr th:only-of-type {\n",
              "        vertical-align: middle;\n",
              "    }\n",
              "\n",
              "    .dataframe tbody tr th {\n",
              "        vertical-align: top;\n",
              "    }\n",
              "\n",
              "    .dataframe thead th {\n",
              "        text-align: right;\n",
              "    }\n",
              "</style>\n",
              "<table border=\"1\" class=\"dataframe\">\n",
              "  <thead>\n",
              "    <tr style=\"text-align: right;\">\n",
              "      <th></th>\n",
              "      <th>No</th>\n",
              "      <th>year</th>\n",
              "      <th>month</th>\n",
              "      <th>day</th>\n",
              "      <th>hour</th>\n",
              "      <th>pm2.5</th>\n",
              "      <th>DEWP</th>\n",
              "      <th>TEMP</th>\n",
              "      <th>PRES</th>\n",
              "      <th>cbwd</th>\n",
              "      <th>Iws</th>\n",
              "      <th>Is</th>\n",
              "      <th>Ir</th>\n",
              "      <th>datetime</th>\n",
              "    </tr>\n",
              "  </thead>\n",
              "  <tbody>\n",
              "    <tr>\n",
              "      <th>0</th>\n",
              "      <td>1</td>\n",
              "      <td>2010</td>\n",
              "      <td>1</td>\n",
              "      <td>1</td>\n",
              "      <td>0</td>\n",
              "      <td>NaN</td>\n",
              "      <td>-21</td>\n",
              "      <td>-11.0</td>\n",
              "      <td>1021.0</td>\n",
              "      <td>NW</td>\n",
              "      <td>1.79</td>\n",
              "      <td>0</td>\n",
              "      <td>0</td>\n",
              "      <td>2010-01-01 00:00:00</td>\n",
              "    </tr>\n",
              "    <tr>\n",
              "      <th>1</th>\n",
              "      <td>2</td>\n",
              "      <td>2010</td>\n",
              "      <td>1</td>\n",
              "      <td>1</td>\n",
              "      <td>1</td>\n",
              "      <td>NaN</td>\n",
              "      <td>-21</td>\n",
              "      <td>-12.0</td>\n",
              "      <td>1020.0</td>\n",
              "      <td>NW</td>\n",
              "      <td>4.92</td>\n",
              "      <td>0</td>\n",
              "      <td>0</td>\n",
              "      <td>2010-01-01 01:00:00</td>\n",
              "    </tr>\n",
              "    <tr>\n",
              "      <th>2</th>\n",
              "      <td>3</td>\n",
              "      <td>2010</td>\n",
              "      <td>1</td>\n",
              "      <td>1</td>\n",
              "      <td>2</td>\n",
              "      <td>NaN</td>\n",
              "      <td>-21</td>\n",
              "      <td>-11.0</td>\n",
              "      <td>1019.0</td>\n",
              "      <td>NW</td>\n",
              "      <td>6.71</td>\n",
              "      <td>0</td>\n",
              "      <td>0</td>\n",
              "      <td>2010-01-01 02:00:00</td>\n",
              "    </tr>\n",
              "    <tr>\n",
              "      <th>3</th>\n",
              "      <td>4</td>\n",
              "      <td>2010</td>\n",
              "      <td>1</td>\n",
              "      <td>1</td>\n",
              "      <td>3</td>\n",
              "      <td>NaN</td>\n",
              "      <td>-21</td>\n",
              "      <td>-14.0</td>\n",
              "      <td>1019.0</td>\n",
              "      <td>NW</td>\n",
              "      <td>9.84</td>\n",
              "      <td>0</td>\n",
              "      <td>0</td>\n",
              "      <td>2010-01-01 03:00:00</td>\n",
              "    </tr>\n",
              "    <tr>\n",
              "      <th>4</th>\n",
              "      <td>5</td>\n",
              "      <td>2010</td>\n",
              "      <td>1</td>\n",
              "      <td>1</td>\n",
              "      <td>4</td>\n",
              "      <td>NaN</td>\n",
              "      <td>-20</td>\n",
              "      <td>-12.0</td>\n",
              "      <td>1018.0</td>\n",
              "      <td>NW</td>\n",
              "      <td>12.97</td>\n",
              "      <td>0</td>\n",
              "      <td>0</td>\n",
              "      <td>2010-01-01 04:00:00</td>\n",
              "    </tr>\n",
              "  </tbody>\n",
              "</table>\n",
              "</div>"
            ],
            "text/plain": [
              "   No  year  month  day  hour  ...  cbwd    Iws  Is  Ir            datetime\n",
              "0   1  2010      1    1     0  ...    NW   1.79   0   0 2010-01-01 00:00:00\n",
              "1   2  2010      1    1     1  ...    NW   4.92   0   0 2010-01-01 01:00:00\n",
              "2   3  2010      1    1     2  ...    NW   6.71   0   0 2010-01-01 02:00:00\n",
              "3   4  2010      1    1     3  ...    NW   9.84   0   0 2010-01-01 03:00:00\n",
              "4   5  2010      1    1     4  ...    NW  12.97   0   0 2010-01-01 04:00:00\n",
              "\n",
              "[5 rows x 14 columns]"
            ]
          },
          "metadata": {
            "tags": []
          },
          "execution_count": 9
        }
      ]
    },
    {
      "cell_type": "code",
      "metadata": {
        "id": "jFF8_PCyBikA",
        "colab_type": "code",
        "colab": {}
      },
      "source": [
        "df2 = df.drop(['No','year','month','day','hour'],axis=1)\n"
      ],
      "execution_count": 0,
      "outputs": []
    },
    {
      "cell_type": "code",
      "metadata": {
        "id": "ZQ07SaqSBimp",
        "colab_type": "code",
        "outputId": "3a8fccdb-07f2-4cfe-cc04-077514a2f2db",
        "colab": {
          "base_uri": "https://localhost:8080/",
          "height": 199
        }
      },
      "source": [
        "df2.head()"
      ],
      "execution_count": 6,
      "outputs": [
        {
          "output_type": "execute_result",
          "data": {
            "text/html": [
              "<div>\n",
              "<style scoped>\n",
              "    .dataframe tbody tr th:only-of-type {\n",
              "        vertical-align: middle;\n",
              "    }\n",
              "\n",
              "    .dataframe tbody tr th {\n",
              "        vertical-align: top;\n",
              "    }\n",
              "\n",
              "    .dataframe thead th {\n",
              "        text-align: right;\n",
              "    }\n",
              "</style>\n",
              "<table border=\"1\" class=\"dataframe\">\n",
              "  <thead>\n",
              "    <tr style=\"text-align: right;\">\n",
              "      <th></th>\n",
              "      <th>pm2.5</th>\n",
              "      <th>DEWP</th>\n",
              "      <th>TEMP</th>\n",
              "      <th>PRES</th>\n",
              "      <th>cbwd</th>\n",
              "      <th>Iws</th>\n",
              "      <th>Is</th>\n",
              "      <th>Ir</th>\n",
              "      <th>datetime</th>\n",
              "    </tr>\n",
              "  </thead>\n",
              "  <tbody>\n",
              "    <tr>\n",
              "      <th>0</th>\n",
              "      <td>NaN</td>\n",
              "      <td>-21</td>\n",
              "      <td>-11.0</td>\n",
              "      <td>1021.0</td>\n",
              "      <td>NW</td>\n",
              "      <td>1.79</td>\n",
              "      <td>0</td>\n",
              "      <td>0</td>\n",
              "      <td>2010-01-01 00:00:00</td>\n",
              "    </tr>\n",
              "    <tr>\n",
              "      <th>1</th>\n",
              "      <td>NaN</td>\n",
              "      <td>-21</td>\n",
              "      <td>-12.0</td>\n",
              "      <td>1020.0</td>\n",
              "      <td>NW</td>\n",
              "      <td>4.92</td>\n",
              "      <td>0</td>\n",
              "      <td>0</td>\n",
              "      <td>2010-01-01 01:00:00</td>\n",
              "    </tr>\n",
              "    <tr>\n",
              "      <th>2</th>\n",
              "      <td>NaN</td>\n",
              "      <td>-21</td>\n",
              "      <td>-11.0</td>\n",
              "      <td>1019.0</td>\n",
              "      <td>NW</td>\n",
              "      <td>6.71</td>\n",
              "      <td>0</td>\n",
              "      <td>0</td>\n",
              "      <td>2010-01-01 02:00:00</td>\n",
              "    </tr>\n",
              "    <tr>\n",
              "      <th>3</th>\n",
              "      <td>NaN</td>\n",
              "      <td>-21</td>\n",
              "      <td>-14.0</td>\n",
              "      <td>1019.0</td>\n",
              "      <td>NW</td>\n",
              "      <td>9.84</td>\n",
              "      <td>0</td>\n",
              "      <td>0</td>\n",
              "      <td>2010-01-01 03:00:00</td>\n",
              "    </tr>\n",
              "    <tr>\n",
              "      <th>4</th>\n",
              "      <td>NaN</td>\n",
              "      <td>-20</td>\n",
              "      <td>-12.0</td>\n",
              "      <td>1018.0</td>\n",
              "      <td>NW</td>\n",
              "      <td>12.97</td>\n",
              "      <td>0</td>\n",
              "      <td>0</td>\n",
              "      <td>2010-01-01 04:00:00</td>\n",
              "    </tr>\n",
              "  </tbody>\n",
              "</table>\n",
              "</div>"
            ],
            "text/plain": [
              "   pm2.5  DEWP  TEMP    PRES cbwd    Iws  Is  Ir            datetime\n",
              "0    NaN   -21 -11.0  1021.0   NW   1.79   0   0 2010-01-01 00:00:00\n",
              "1    NaN   -21 -12.0  1020.0   NW   4.92   0   0 2010-01-01 01:00:00\n",
              "2    NaN   -21 -11.0  1019.0   NW   6.71   0   0 2010-01-01 02:00:00\n",
              "3    NaN   -21 -14.0  1019.0   NW   9.84   0   0 2010-01-01 03:00:00\n",
              "4    NaN   -20 -12.0  1018.0   NW  12.97   0   0 2010-01-01 04:00:00"
            ]
          },
          "metadata": {
            "tags": []
          },
          "execution_count": 6
        }
      ]
    },
    {
      "cell_type": "markdown",
      "metadata": {
        "id": "nFA-vAEmNhhb",
        "colab_type": "text"
      },
      "source": [
        "The pres column has the data on air pressure Lets draw a boxplot."
      ]
    },
    {
      "cell_type": "code",
      "metadata": {
        "id": "bZWW1BrhBipW",
        "colab_type": "code",
        "outputId": "9bbac3dd-16e0-4287-c455-cb55fc1a6763",
        "colab": {
          "base_uri": "https://localhost:8080/",
          "height": 503
        }
      },
      "source": [
        "plt.figure(figsize=(7.5,7.5))\n",
        "g = sns.boxplot(df['PRES'])\n",
        "g.set_title('Box plot of Air Pressure')"
      ],
      "execution_count": 7,
      "outputs": [
        {
          "output_type": "execute_result",
          "data": {
            "text/plain": [
              "Text(0.5, 1.0, 'Box plot of Air Pressure')"
            ]
          },
          "metadata": {
            "tags": []
          },
          "execution_count": 7
        },
        {
          "output_type": "display_data",
          "data": {
            "image/png": "[encoded data removed]",
            "text/plain": [
              "<Figure size 540x540 with 1 Axes>"
            ]
          },
          "metadata": {
            "tags": []
          }
        }
      ]
    },
    {
      "cell_type": "code",
      "metadata": {
        "id": "K27li2TEBisb",
        "colab_type": "code",
        "outputId": "0cddf5fd-66f5-4d7f-eb85-ef226a5ec6e2",
        "colab": {
          "base_uri": "https://localhost:8080/",
          "height": 34
        }
      },
      "source": [
        "median = np.median(df['PRES'])\n",
        "median\n"
      ],
      "execution_count": 8,
      "outputs": [
        {
          "output_type": "execute_result",
          "data": {
            "text/plain": [
              "1016.0"
            ]
          },
          "metadata": {
            "tags": []
          },
          "execution_count": 8
        }
      ]
    },
    {
      "cell_type": "markdown",
      "metadata": {
        "id": "Req5056mOl-9",
        "colab_type": "text"
      },
      "source": [
        "The median is around 1016.0"
      ]
    },
    {
      "cell_type": "code",
      "metadata": {
        "id": "SvUaozDzBivW",
        "colab_type": "code",
        "outputId": "a25fe3f0-7279-4b31-ed8d-0fb77153eecb",
        "colab": {
          "base_uri": "https://localhost:8080/",
          "height": 34
        }
      },
      "source": [
        "q1 = np.percentile(df['PRES'],25)\n",
        "q3 = np.percentile(df['PRES'],75)\n",
        "print(q1,\" \",q3)"
      ],
      "execution_count": 9,
      "outputs": [
        {
          "output_type": "stream",
          "text": [
            "1008.0   1025.0\n"
          ],
          "name": "stdout"
        }
      ]
    },
    {
      "cell_type": "markdown",
      "metadata": {
        "id": "GGygRtGFO__I",
        "colab_type": "text"
      },
      "source": [
        "THe FIRST QUARILE = 1008.0\n",
        "the third quartile =  1025.0"
      ]
    },
    {
      "cell_type": "code",
      "metadata": {
        "id": "F2G8yEwTBiyM",
        "colab_type": "code",
        "colab": {}
      },
      "source": [
        "dataset = (df2['PRES'] - df2['PRES'].min())/(df2['PRES'].max() - df2['PRES'].min())"
      ],
      "execution_count": 0,
      "outputs": []
    },
    {
      "cell_type": "code",
      "metadata": {
        "id": "dWbAOXrAYMVc",
        "colab_type": "code",
        "colab": {}
      },
      "source": [
        "from sklearn.preprocessing import MinMaxScaler\n",
        "scaler = MinMaxScaler(feature_range=(0,1))\n",
        "df['scaled_PRES'] = scaler.fit_transform(np.array(df['PRES']).reshape(-1,1))"
      ],
      "execution_count": 0,
      "outputs": []
    },
    {
      "cell_type": "markdown",
      "metadata": {
        "id": "Oc2q9cXNf8C5",
        "colab_type": "text"
      },
      "source": [
        "Now after rescaling we will be dividing our dataset into training set and test set."
      ]
    },
    {
      "cell_type": "code",
      "metadata": {
        "id": "TBalYmphBi0x",
        "colab_type": "code",
        "outputId": "7bf56162-fd08-481f-f4a6-97f975df7121",
        "colab": {
          "base_uri": "https://localhost:8080/",
          "height": 199
        }
      },
      "source": [
        "df.head()"
      ],
      "execution_count": 12,
      "outputs": [
        {
          "output_type": "execute_result",
          "data": {
            "text/html": [
              "<div>\n",
              "<style scoped>\n",
              "    .dataframe tbody tr th:only-of-type {\n",
              "        vertical-align: middle;\n",
              "    }\n",
              "\n",
              "    .dataframe tbody tr th {\n",
              "        vertical-align: top;\n",
              "    }\n",
              "\n",
              "    .dataframe thead th {\n",
              "        text-align: right;\n",
              "    }\n",
              "</style>\n",
              "<table border=\"1\" class=\"dataframe\">\n",
              "  <thead>\n",
              "    <tr style=\"text-align: right;\">\n",
              "      <th></th>\n",
              "      <th>No</th>\n",
              "      <th>year</th>\n",
              "      <th>month</th>\n",
              "      <th>day</th>\n",
              "      <th>hour</th>\n",
              "      <th>pm2.5</th>\n",
              "      <th>DEWP</th>\n",
              "      <th>TEMP</th>\n",
              "      <th>PRES</th>\n",
              "      <th>cbwd</th>\n",
              "      <th>Iws</th>\n",
              "      <th>Is</th>\n",
              "      <th>Ir</th>\n",
              "      <th>datetime</th>\n",
              "      <th>scaled_PRES</th>\n",
              "    </tr>\n",
              "  </thead>\n",
              "  <tbody>\n",
              "    <tr>\n",
              "      <th>0</th>\n",
              "      <td>1</td>\n",
              "      <td>2010</td>\n",
              "      <td>1</td>\n",
              "      <td>1</td>\n",
              "      <td>0</td>\n",
              "      <td>NaN</td>\n",
              "      <td>-21</td>\n",
              "      <td>-11.0</td>\n",
              "      <td>1021.0</td>\n",
              "      <td>NW</td>\n",
              "      <td>1.79</td>\n",
              "      <td>0</td>\n",
              "      <td>0</td>\n",
              "      <td>2010-01-01 00:00:00</td>\n",
              "      <td>0.545455</td>\n",
              "    </tr>\n",
              "    <tr>\n",
              "      <th>1</th>\n",
              "      <td>2</td>\n",
              "      <td>2010</td>\n",
              "      <td>1</td>\n",
              "      <td>1</td>\n",
              "      <td>1</td>\n",
              "      <td>NaN</td>\n",
              "      <td>-21</td>\n",
              "      <td>-12.0</td>\n",
              "      <td>1020.0</td>\n",
              "      <td>NW</td>\n",
              "      <td>4.92</td>\n",
              "      <td>0</td>\n",
              "      <td>0</td>\n",
              "      <td>2010-01-01 01:00:00</td>\n",
              "      <td>0.527273</td>\n",
              "    </tr>\n",
              "    <tr>\n",
              "      <th>2</th>\n",
              "      <td>3</td>\n",
              "      <td>2010</td>\n",
              "      <td>1</td>\n",
              "      <td>1</td>\n",
              "      <td>2</td>\n",
              "      <td>NaN</td>\n",
              "      <td>-21</td>\n",
              "      <td>-11.0</td>\n",
              "      <td>1019.0</td>\n",
              "      <td>NW</td>\n",
              "      <td>6.71</td>\n",
              "      <td>0</td>\n",
              "      <td>0</td>\n",
              "      <td>2010-01-01 02:00:00</td>\n",
              "      <td>0.509091</td>\n",
              "    </tr>\n",
              "    <tr>\n",
              "      <th>3</th>\n",
              "      <td>4</td>\n",
              "      <td>2010</td>\n",
              "      <td>1</td>\n",
              "      <td>1</td>\n",
              "      <td>3</td>\n",
              "      <td>NaN</td>\n",
              "      <td>-21</td>\n",
              "      <td>-14.0</td>\n",
              "      <td>1019.0</td>\n",
              "      <td>NW</td>\n",
              "      <td>9.84</td>\n",
              "      <td>0</td>\n",
              "      <td>0</td>\n",
              "      <td>2010-01-01 03:00:00</td>\n",
              "      <td>0.509091</td>\n",
              "    </tr>\n",
              "    <tr>\n",
              "      <th>4</th>\n",
              "      <td>5</td>\n",
              "      <td>2010</td>\n",
              "      <td>1</td>\n",
              "      <td>1</td>\n",
              "      <td>4</td>\n",
              "      <td>NaN</td>\n",
              "      <td>-20</td>\n",
              "      <td>-12.0</td>\n",
              "      <td>1018.0</td>\n",
              "      <td>NW</td>\n",
              "      <td>12.97</td>\n",
              "      <td>0</td>\n",
              "      <td>0</td>\n",
              "      <td>2010-01-01 04:00:00</td>\n",
              "      <td>0.490909</td>\n",
              "    </tr>\n",
              "  </tbody>\n",
              "</table>\n",
              "</div>"
            ],
            "text/plain": [
              "   No  year  month  day  hour  ...    Iws  Is  Ir            datetime scaled_PRES\n",
              "0   1  2010      1    1     0  ...   1.79   0   0 2010-01-01 00:00:00    0.545455\n",
              "1   2  2010      1    1     1  ...   4.92   0   0 2010-01-01 01:00:00    0.527273\n",
              "2   3  2010      1    1     2  ...   6.71   0   0 2010-01-01 02:00:00    0.509091\n",
              "3   4  2010      1    1     3  ...   9.84   0   0 2010-01-01 03:00:00    0.509091\n",
              "4   5  2010      1    1     4  ...  12.97   0   0 2010-01-01 04:00:00    0.490909\n",
              "\n",
              "[5 rows x 15 columns]"
            ]
          },
          "metadata": {
            "tags": []
          },
          "execution_count": 12
        }
      ]
    },
    {
      "cell_type": "code",
      "metadata": {
        "id": "RvLu1IiLBi4D",
        "colab_type": "code",
        "outputId": "f1885231-abca-4ec9-e6e5-b5619e6d35f7",
        "colab": {
          "base_uri": "https://localhost:8080/",
          "height": 52
        }
      },
      "source": [
        "split_date = datetime.datetime(year=2014,month=1,day=1,hour=0)\n",
        "df_train = df.loc[df['datetime']<split_date]\n",
        "df_val = df.loc[df['datetime']>=split_date]\n",
        "print('Shape of the training set : ',df_train.shape)\n",
        "print('Shape of the test set : ',df_val.shape)"
      ],
      "execution_count": 13,
      "outputs": [
        {
          "output_type": "stream",
          "text": [
            "Shape of the training set :  (35064, 15)\n",
            "Shape of the test set :  (8760, 15)\n"
          ],
          "name": "stdout"
        }
      ]
    },
    {
      "cell_type": "markdown",
      "metadata": {
        "id": "JR8T0GaShcwq",
        "colab_type": "text"
      },
      "source": [
        "The train and validation time series of scaled_PRES is also shown below."
      ]
    },
    {
      "cell_type": "code",
      "metadata": {
        "id": "rBOL-LgPBi62",
        "colab_type": "code",
        "outputId": "db670435-83c4-4d37-c3f0-2966853067d4",
        "colab": {
          "base_uri": "https://localhost:8080/",
          "height": 450
        }
      },
      "source": [
        "plt.figure(figsize =(5.5,5.5))\n",
        "g = sns.tsplot(df_train['scaled_PRES'],color='b')\n",
        "g.set_title('Time series of saled Air Prssure in train set')\n",
        "g.set_xlabel('Index')\n",
        "g.set_ylabel('Scaled Air Pressure readings')\n",
        "#plt.show()"
      ],
      "execution_count": 17,
      "outputs": [
        {
          "output_type": "stream",
          "text": [
            "/usr/local/lib/python3.6/dist-packages/seaborn/timeseries.py:183: UserWarning: The `tsplot` function is deprecated and will be removed in a future release. Please update your code to use the new `lineplot` function.\n",
            "  warnings.warn(msg, UserWarning)\n"
          ],
          "name": "stderr"
        },
        {
          "output_type": "execute_result",
          "data": {
            "text/plain": [
              "Text(0, 0.5, 'Scaled Air Pressure readings')"
            ]
          },
          "metadata": {
            "tags": []
          },
          "execution_count": 17
        },
        {
          "output_type": "display_data",
          "data": {
            "image/png": "[encoded data removed]",
            "text/plain": [
              "<Figure size 396x396 with 1 Axes>"
            ]
          },
          "metadata": {
            "tags": []
          }
        }
      ]
    },
    {
      "cell_type": "code",
      "metadata": {
        "id": "tGUoCGz6iZhI",
        "colab_type": "code",
        "outputId": "99bc4350-6152-4058-af77-3b011f6df13f",
        "colab": {
          "base_uri": "https://localhost:8080/",
          "height": 559
        }
      },
      "source": [
        "plt.figure(figsize =(7.5,7.5))\n",
        "g = sns.tsplot(df_val['scaled_PRES'],color='y')\n",
        "g.set_title('Time series of saled Air Prssure in test set')\n",
        "g.set_xlabel('Index')\n",
        "g.set_ylabel('Scaled Air Pressure readings')\n",
        "#plt.show()"
      ],
      "execution_count": 16,
      "outputs": [
        {
          "output_type": "stream",
          "text": [
            "/usr/local/lib/python3.6/dist-packages/seaborn/timeseries.py:183: UserWarning: The `tsplot` function is deprecated and will be removed in a future release. Please update your code to use the new `lineplot` function.\n",
            "  warnings.warn(msg, UserWarning)\n"
          ],
          "name": "stderr"
        },
        {
          "output_type": "execute_result",
          "data": {
            "text/plain": [
              "Text(0, 0.5, 'Scaled Air Pressure readings')"
            ]
          },
          "metadata": {
            "tags": []
          },
          "execution_count": 16
        },
        {
          "output_type": "display_data",
          "data": {
            "image/png": "[encoded data removed]",
            "text/plain": [
              "<Figure size 540x540 with 1 Axes>"
            ]
          },
          "metadata": {
            "tags": []
          }
        }
      ]
    },
    {
      "cell_type": "code",
      "metadata": {
        "id": "0wvpmah0Bi9y",
        "colab_type": "code",
        "colab": {}
      },
      "source": [
        "#  Now we have to generate regressors(X) and target variable(y) for train and validation.A 2d array of regressors and 1-D array of target\n",
        "#  is created from the original 1-D array of the scaled_PRES column in the DATAFRAMES.For the time series forecasting model, the past\n",
        "#  seven days of observations are used to predict for the next day.This is equivalent to AR(7) model. WE defin a function that takes a time series\n",
        "#  and returns the arrays of X and Y respectively."
      ],
      "execution_count": 0,
      "outputs": []
    },
    {
      "cell_type": "code",
      "metadata": {
        "id": "pBAJF06OBjAl",
        "colab_type": "code",
        "colab": {}
      },
      "source": [
        "def makeXy(ts , nb_timesteps):\n",
        "  '''\n",
        "  Input:\n",
        "    ts : original time series\n",
        "    nb_timesteps : number of time steps in the regressors\n",
        "   Output:\n",
        "   X: 2_D array of regressors\n",
        "   y : 1-D array of target\n",
        "  '''\n",
        "  X = []\n",
        "  y = []\n",
        "  for i in range(nb_timesteps,ts.shape[0]):\n",
        "    X.append(list(ts.loc(axis=0)[i-nb_timesteps:i-1]))\n",
        "    y.append(ts.loc(axis=0)[i])\n",
        "  X = np.array(X)\n",
        "  y = np.array(y)\n",
        "  return X,y"
      ],
      "execution_count": 0,
      "outputs": []
    },
    {
      "cell_type": "code",
      "metadata": {
        "id": "0DG5F3TqBjDf",
        "colab_type": "code",
        "colab": {
          "base_uri": "https://localhost:8080/",
          "height": 157
        },
        "outputId": "51831963-4458-4683-cd61-f4054c94fd58"
      },
      "source": [
        "df_train['scaled_PRES'].iloc[0:7]"
      ],
      "execution_count": 49,
      "outputs": [
        {
          "output_type": "execute_result",
          "data": {
            "text/plain": [
              "0    0.545455\n",
              "1    0.527273\n",
              "2    0.509091\n",
              "3    0.509091\n",
              "4    0.490909\n",
              "5    0.472727\n",
              "6    0.472727\n",
              "Name: scaled_PRES, dtype: float64"
            ]
          },
          "metadata": {
            "tags": []
          },
          "execution_count": 49
        }
      ]
    },
    {
      "cell_type": "code",
      "metadata": {
        "id": "SbUvSXnnBjGl",
        "colab_type": "code",
        "colab": {
          "base_uri": "https://localhost:8080/",
          "height": 34
        },
        "outputId": "6fd9b42c-d28c-423b-96af-dcc2ce7c6a49"
      },
      "source": [
        "X_train,y_train = makeXy(df_train['scaled_PRES'],7)\n",
        "print('Shape of the training dataset : ',X_train.shape,y_train.shape)\n"
      ],
      "execution_count": 69,
      "outputs": [
        {
          "output_type": "stream",
          "text": [
            "Shape of the training dataset :  (35057, 7) (35057,)\n"
          ],
          "name": "stdout"
        }
      ]
    },
    {
      "cell_type": "code",
      "metadata": {
        "id": "dBuvSzMKLoKt",
        "colab_type": "code",
        "colab": {}
      },
      "source": [
        "k = df_val['scaled_PRES'].index.values\n",
        "l = []\n",
        "for i in range(k.shape[0]):\n",
        "    l.append(i)\n",
        "l = np.array(l)\n",
        "df_val.index = l\n",
        "X_val,y_val = makeXy(df_val['scaled_PRES'],7)\n",
        "print('Shape of the validation dataset : ',X_val.shape,y_val.shape)\n"
      ],
      "execution_count": 0,
      "outputs": []
    },
    {
      "cell_type": "code",
      "metadata": {
        "id": "3JcwSyVKNZ7H",
        "colab_type": "code",
        "colab": {}
      },
      "source": [
        "l = np.array(l)\n",
        "df_val.index = l"
      ],
      "execution_count": 0,
      "outputs": []
    },
    {
      "cell_type": "code",
      "metadata": {
        "id": "h5LEyPk-NksB",
        "colab_type": "code",
        "colab": {
          "base_uri": "https://localhost:8080/",
          "height": 199
        },
        "outputId": "d08db0d0-43b2-4c85-cc67-a4b12d767cfc"
      },
      "source": [
        "df_val.head()"
      ],
      "execution_count": 81,
      "outputs": [
        {
          "output_type": "execute_result",
          "data": {
            "text/html": [
              "<div>\n",
              "<style scoped>\n",
              "    .dataframe tbody tr th:only-of-type {\n",
              "        vertical-align: middle;\n",
              "    }\n",
              "\n",
              "    .dataframe tbody tr th {\n",
              "        vertical-align: top;\n",
              "    }\n",
              "\n",
              "    .dataframe thead th {\n",
              "        text-align: right;\n",
              "    }\n",
              "</style>\n",
              "<table border=\"1\" class=\"dataframe\">\n",
              "  <thead>\n",
              "    <tr style=\"text-align: right;\">\n",
              "      <th></th>\n",
              "      <th>No</th>\n",
              "      <th>year</th>\n",
              "      <th>month</th>\n",
              "      <th>day</th>\n",
              "      <th>hour</th>\n",
              "      <th>pm2.5</th>\n",
              "      <th>DEWP</th>\n",
              "      <th>TEMP</th>\n",
              "      <th>PRES</th>\n",
              "      <th>cbwd</th>\n",
              "      <th>Iws</th>\n",
              "      <th>Is</th>\n",
              "      <th>Ir</th>\n",
              "      <th>datetime</th>\n",
              "      <th>scaled_PRES</th>\n",
              "    </tr>\n",
              "  </thead>\n",
              "  <tbody>\n",
              "    <tr>\n",
              "      <th>0</th>\n",
              "      <td>35065</td>\n",
              "      <td>2014</td>\n",
              "      <td>1</td>\n",
              "      <td>1</td>\n",
              "      <td>0</td>\n",
              "      <td>24.0</td>\n",
              "      <td>-20</td>\n",
              "      <td>7.0</td>\n",
              "      <td>1014.0</td>\n",
              "      <td>NW</td>\n",
              "      <td>143.48</td>\n",
              "      <td>0</td>\n",
              "      <td>0</td>\n",
              "      <td>2014-01-01 00:00:00</td>\n",
              "      <td>0.418182</td>\n",
              "    </tr>\n",
              "    <tr>\n",
              "      <th>1</th>\n",
              "      <td>35066</td>\n",
              "      <td>2014</td>\n",
              "      <td>1</td>\n",
              "      <td>1</td>\n",
              "      <td>1</td>\n",
              "      <td>53.0</td>\n",
              "      <td>-20</td>\n",
              "      <td>7.0</td>\n",
              "      <td>1013.0</td>\n",
              "      <td>NW</td>\n",
              "      <td>147.50</td>\n",
              "      <td>0</td>\n",
              "      <td>0</td>\n",
              "      <td>2014-01-01 01:00:00</td>\n",
              "      <td>0.400000</td>\n",
              "    </tr>\n",
              "    <tr>\n",
              "      <th>2</th>\n",
              "      <td>35067</td>\n",
              "      <td>2014</td>\n",
              "      <td>1</td>\n",
              "      <td>1</td>\n",
              "      <td>2</td>\n",
              "      <td>65.0</td>\n",
              "      <td>-20</td>\n",
              "      <td>6.0</td>\n",
              "      <td>1013.0</td>\n",
              "      <td>NW</td>\n",
              "      <td>151.52</td>\n",
              "      <td>0</td>\n",
              "      <td>0</td>\n",
              "      <td>2014-01-01 02:00:00</td>\n",
              "      <td>0.400000</td>\n",
              "    </tr>\n",
              "    <tr>\n",
              "      <th>3</th>\n",
              "      <td>35068</td>\n",
              "      <td>2014</td>\n",
              "      <td>1</td>\n",
              "      <td>1</td>\n",
              "      <td>3</td>\n",
              "      <td>70.0</td>\n",
              "      <td>-20</td>\n",
              "      <td>6.0</td>\n",
              "      <td>1013.0</td>\n",
              "      <td>NW</td>\n",
              "      <td>153.31</td>\n",
              "      <td>0</td>\n",
              "      <td>0</td>\n",
              "      <td>2014-01-01 03:00:00</td>\n",
              "      <td>0.400000</td>\n",
              "    </tr>\n",
              "    <tr>\n",
              "      <th>4</th>\n",
              "      <td>35069</td>\n",
              "      <td>2014</td>\n",
              "      <td>1</td>\n",
              "      <td>1</td>\n",
              "      <td>4</td>\n",
              "      <td>79.0</td>\n",
              "      <td>-18</td>\n",
              "      <td>3.0</td>\n",
              "      <td>1012.0</td>\n",
              "      <td>cv</td>\n",
              "      <td>0.89</td>\n",
              "      <td>0</td>\n",
              "      <td>0</td>\n",
              "      <td>2014-01-01 04:00:00</td>\n",
              "      <td>0.381818</td>\n",
              "    </tr>\n",
              "  </tbody>\n",
              "</table>\n",
              "</div>"
            ],
            "text/plain": [
              "      No  year  month  day  ...  Is  Ir            datetime  scaled_PRES\n",
              "0  35065  2014      1    1  ...   0   0 2014-01-01 00:00:00     0.418182\n",
              "1  35066  2014      1    1  ...   0   0 2014-01-01 01:00:00     0.400000\n",
              "2  35067  2014      1    1  ...   0   0 2014-01-01 02:00:00     0.400000\n",
              "3  35068  2014      1    1  ...   0   0 2014-01-01 03:00:00     0.400000\n",
              "4  35069  2014      1    1  ...   0   0 2014-01-01 04:00:00     0.381818\n",
              "\n",
              "[5 rows x 15 columns]"
            ]
          },
          "metadata": {
            "tags": []
          },
          "execution_count": 81
        }
      ]
    },
    {
      "cell_type": "code",
      "metadata": {
        "id": "b15AJo08BjJU",
        "colab_type": "code",
        "colab": {
          "base_uri": "https://localhost:8080/",
          "height": 34
        },
        "outputId": "51febe57-3248-4281-9a66-674584a28389"
      },
      "source": [
        "X_val,y_val = makeXy(df_val['scaled_PRES'],7)\n",
        "print('Shape of the validation dataset : ',X_val.shape,y_val.shape)"
      ],
      "execution_count": 83,
      "outputs": [
        {
          "output_type": "stream",
          "text": [
            "Shape of the validation dataset :  (8753, 7) (8753,)\n"
          ],
          "name": "stdout"
        }
      ]
    },
    {
      "cell_type": "code",
      "metadata": {
        "id": "JebKkeSMBjMJ",
        "colab_type": "code",
        "colab": {}
      },
      "source": [
        "# Now we define the MLP using the Keras functional API. In this approach, layers are declared and cascaded as input and \n",
        "# output of each other."
      ],
      "execution_count": 0,
      "outputs": []
    },
    {
      "cell_type": "code",
      "metadata": {
        "id": "_GNXkSENBjO2",
        "colab_type": "code",
        "colab": {}
      },
      "source": [
        "from keras.layers import Dense, Input, Dropout\n",
        "from keras.optimizers import SGD\n",
        "from keras.models import Model\n",
        "from keras.models import load_model\n",
        "from keras.callbacks import ModelCheckpoint"
      ],
      "execution_count": 0,
      "outputs": []
    },
    {
      "cell_type": "code",
      "metadata": {
        "id": "5EuPVAC1BjRd",
        "colab_type": "code",
        "colab": {}
      },
      "source": [
        "# The input layer is declared with shape (None, 7) and of type float32. None indicates the\n",
        "# number of instances that is determined at runtime:\n",
        "input_layer = Input(shape=(7,),dtype='float32')"
      ],
      "execution_count": 0,
      "outputs": []
    },
    {
      "cell_type": "code",
      "metadata": {
        "id": "5uclHbWqBjUU",
        "colab_type": "code",
        "colab": {
          "base_uri": "https://localhost:8080/",
          "height": 142
        },
        "outputId": "9e8f218e-812a-4f47-c86b-10ee8f470651"
      },
      "source": [
        "# Dense layers are declared with linear activation:\n",
        "dense1 = Dense(32, activation='linear')(input_layer)\n",
        "dense2 = Dense(16, activation='linear')(dense1)\n",
        "dense3 = Dense(16, activation='linear')(dense2)\n",
        "dropout_layer = Dropout(0.2)(dense3)\n",
        "output_layer = Dense(1,activation='linear')(dropout_layer)"
      ],
      "execution_count": 88,
      "outputs": [
        {
          "output_type": "stream",
          "text": [
            "WARNING:tensorflow:From /usr/local/lib/python3.6/dist-packages/tensorflow/python/framework/op_def_library.py:263: colocate_with (from tensorflow.python.framework.ops) is deprecated and will be removed in a future version.\n",
            "Instructions for updating:\n",
            "Colocations handled automatically by placer.\n",
            "WARNING:tensorflow:From /usr/local/lib/python3.6/dist-packages/keras/backend/tensorflow_backend.py:3445: calling dropout (from tensorflow.python.ops.nn_ops) with keep_prob is deprecated and will be removed in a future version.\n",
            "Instructions for updating:\n",
            "Please use `rate` instead of `keep_prob`. Rate should be set to `rate = 1 - keep_prob`.\n"
          ],
          "name": "stdout"
        }
      ]
    },
    {
      "cell_type": "code",
      "metadata": {
        "id": "kK3pPVTiBjXG",
        "colab_type": "code",
        "colab": {
          "base_uri": "https://localhost:8080/",
          "height": 351
        },
        "outputId": "2da15a3d-e90d-4110-8768-9c44f225c5cb"
      },
      "source": [
        "ts_model = Model(inputs = input_layer,outputs = output_layer)\n",
        "ts_model.compile(loss='mean_squared_error',optimizer='adam',metrics=['accuracy'])\n",
        "ts_model.summary()"
      ],
      "execution_count": 92,
      "outputs": [
        {
          "output_type": "stream",
          "text": [
            "_________________________________________________________________\n",
            "Layer (type)                 Output Shape              Param #   \n",
            "=================================================================\n",
            "input_1 (InputLayer)         (None, 7)                 0         \n",
            "_________________________________________________________________\n",
            "dense_2 (Dense)              (None, 32)                256       \n",
            "_________________________________________________________________\n",
            "dense_3 (Dense)              (None, 16)                528       \n",
            "_________________________________________________________________\n",
            "dense_4 (Dense)              (None, 16)                272       \n",
            "_________________________________________________________________\n",
            "dropout_1 (Dropout)          (None, 16)                0         \n",
            "_________________________________________________________________\n",
            "dense_5 (Dense)              (None, 1)                 17        \n",
            "=================================================================\n",
            "Total params: 1,073\n",
            "Trainable params: 1,073\n",
            "Non-trainable params: 0\n",
            "_________________________________________________________________\n"
          ],
          "name": "stdout"
        }
      ]
    },
    {
      "cell_type": "code",
      "metadata": {
        "id": "BzC2m4x5BjaK",
        "colab_type": "code",
        "colab": {
          "base_uri": "https://localhost:8080/",
          "height": 54
        },
        "outputId": "c617eef8-aef3-4e29-94a0-2aecbfe80817"
      },
      "source": [
        "'''\n",
        "The model is trained by calling the fit function on the model object and passing the\n",
        "X_train and y_train. The training is done for a predefined number of epochs.\n",
        "Additionally, batch_size defines the number of samples of train set to be used for an\n",
        "instance of backpropagation. The validation dataset is also passed to evaluate the model\n",
        "after every epoch completes. A ModelCheckpoint object tracks the loss function on the\n",
        "validation set and saves the model for the epoch at which the loss function has been\n",
        "'''"
      ],
      "execution_count": 93,
      "outputs": [
        {
          "output_type": "execute_result",
          "data": {
            "text/plain": [
              "'\\nThe model is trained by calling the fit function on the model object and passing the\\nX_train and y_train. The training is done for a predefined number of epochs.\\nAdditionally, batch_size defines the number of samples of train set to be used for an\\ninstance of backpropagation. The validation dataset is also passed to evaluate the model\\nafter every epoch completes. A ModelCheckpoint object tracks the loss function on the\\nvalidation set and saves the model for the epoch at which the loss function has been\\n'"
            ]
          },
          "metadata": {
            "tags": []
          },
          "execution_count": 93
        }
      ]
    },
    {
      "cell_type": "code",
      "metadata": {
        "id": "BpehFC9gBjc1",
        "colab_type": "code",
        "colab": {
          "base_uri": "https://localhost:8080/",
          "height": 3587
        },
        "outputId": "f0a3cc13-d3a3-43de-9e78-2ce849575e89"
      },
      "source": [
        "ts_model.fit(x = X_train,y=y_train,batch_size=16,epochs=100,verbose =1,validation_data=(X_val,y_val),shuffle=True)"
      ],
      "execution_count": 95,
      "outputs": [
        {
          "output_type": "stream",
          "text": [
            "Train on 35057 samples, validate on 8753 samples\n",
            "Epoch 1/100\n",
            "35057/35057 [==============================] - 3s 78us/step - loss: 7.5225e-04 - acc: 3.7082e-04 - val_loss: 2.8375e-04 - val_acc: 0.0000e+00\n",
            "Epoch 2/100\n",
            "35057/35057 [==============================] - 3s 76us/step - loss: 7.4543e-04 - acc: 3.7082e-04 - val_loss: 2.9939e-04 - val_acc: 0.0000e+00\n",
            "Epoch 3/100\n",
            "35057/35057 [==============================] - 3s 72us/step - loss: 7.5034e-04 - acc: 3.7082e-04 - val_loss: 2.4601e-04 - val_acc: 0.0000e+00\n",
            "Epoch 4/100\n",
            "35057/35057 [==============================] - 3s 73us/step - loss: 7.4323e-04 - acc: 3.7082e-04 - val_loss: 1.3499e-04 - val_acc: 0.0000e+00\n",
            "Epoch 5/100\n",
            "35057/35057 [==============================] - 3s 71us/step - loss: 7.4971e-04 - acc: 3.7082e-04 - val_loss: 1.3597e-04 - val_acc: 0.0000e+00\n",
            "Epoch 6/100\n",
            "35057/35057 [==============================] - 3s 72us/step - loss: 7.3365e-04 - acc: 3.7082e-04 - val_loss: 1.6346e-04 - val_acc: 0.0000e+00\n",
            "Epoch 7/100\n",
            "35057/35057 [==============================] - 3s 72us/step - loss: 7.4351e-04 - acc: 3.7082e-04 - val_loss: 2.2246e-04 - val_acc: 0.0000e+00\n",
            "Epoch 8/100\n",
            "35057/35057 [==============================] - 2s 71us/step - loss: 7.4793e-04 - acc: 3.7082e-04 - val_loss: 3.3502e-04 - val_acc: 0.0000e+00\n",
            "Epoch 9/100\n",
            "35057/35057 [==============================] - 3s 72us/step - loss: 7.2919e-04 - acc: 3.7082e-04 - val_loss: 2.3005e-04 - val_acc: 0.0000e+00\n",
            "Epoch 10/100\n",
            "35057/35057 [==============================] - 3s 72us/step - loss: 7.4021e-04 - acc: 3.7082e-04 - val_loss: 1.4875e-04 - val_acc: 0.0000e+00\n",
            "Epoch 11/100\n",
            "35057/35057 [==============================] - 2s 71us/step - loss: 7.3216e-04 - acc: 3.7082e-04 - val_loss: 2.2078e-04 - val_acc: 0.0000e+00\n",
            "Epoch 12/100\n",
            "35057/35057 [==============================] - 3s 72us/step - loss: 7.3056e-04 - acc: 3.7082e-04 - val_loss: 1.4738e-04 - val_acc: 0.0000e+00\n",
            "Epoch 13/100\n",
            "35057/35057 [==============================] - 3s 71us/step - loss: 7.2739e-04 - acc: 3.7082e-04 - val_loss: 1.5262e-04 - val_acc: 0.0000e+00\n",
            "Epoch 14/100\n",
            "35057/35057 [==============================] - 2s 71us/step - loss: 7.4741e-04 - acc: 3.7082e-04 - val_loss: 1.7556e-04 - val_acc: 0.0000e+00\n",
            "Epoch 15/100\n",
            "35057/35057 [==============================] - 3s 72us/step - loss: 7.3600e-04 - acc: 3.7082e-04 - val_loss: 2.6344e-04 - val_acc: 0.0000e+00\n",
            "Epoch 16/100\n",
            "35057/35057 [==============================] - 3s 72us/step - loss: 7.3590e-04 - acc: 3.7082e-04 - val_loss: 1.5276e-04 - val_acc: 0.0000e+00\n",
            "Epoch 17/100\n",
            "35057/35057 [==============================] - 2s 71us/step - loss: 7.4951e-04 - acc: 3.7082e-04 - val_loss: 1.5065e-04 - val_acc: 0.0000e+00\n",
            "Epoch 18/100\n",
            "35057/35057 [==============================] - 3s 72us/step - loss: 7.1873e-04 - acc: 3.7082e-04 - val_loss: 2.3803e-04 - val_acc: 0.0000e+00\n",
            "Epoch 19/100\n",
            "35057/35057 [==============================] - 3s 71us/step - loss: 7.2176e-04 - acc: 3.7082e-04 - val_loss: 1.5817e-04 - val_acc: 0.0000e+00\n",
            "Epoch 20/100\n",
            "35057/35057 [==============================] - 3s 71us/step - loss: 7.4726e-04 - acc: 3.7082e-04 - val_loss: 1.7384e-04 - val_acc: 0.0000e+00\n",
            "Epoch 21/100\n",
            "35057/35057 [==============================] - 2s 71us/step - loss: 7.1840e-04 - acc: 3.7082e-04 - val_loss: 2.1381e-04 - val_acc: 0.0000e+00\n",
            "Epoch 22/100\n",
            "35057/35057 [==============================] - 3s 73us/step - loss: 7.2048e-04 - acc: 3.7082e-04 - val_loss: 1.4072e-04 - val_acc: 0.0000e+00\n",
            "Epoch 23/100\n",
            "35057/35057 [==============================] - 3s 72us/step - loss: 7.2517e-04 - acc: 3.7082e-04 - val_loss: 1.4265e-04 - val_acc: 0.0000e+00\n",
            "Epoch 24/100\n",
            "35057/35057 [==============================] - 2s 71us/step - loss: 7.2574e-04 - acc: 3.7082e-04 - val_loss: 1.5338e-04 - val_acc: 0.0000e+00\n",
            "Epoch 25/100\n",
            "35057/35057 [==============================] - 2s 71us/step - loss: 7.3367e-04 - acc: 3.7082e-04 - val_loss: 2.5621e-04 - val_acc: 0.0000e+00\n",
            "Epoch 26/100\n",
            "35057/35057 [==============================] - 2s 71us/step - loss: 7.2867e-04 - acc: 3.7082e-04 - val_loss: 2.0520e-04 - val_acc: 0.0000e+00\n",
            "Epoch 27/100\n",
            "35057/35057 [==============================] - 3s 71us/step - loss: 7.2754e-04 - acc: 3.7082e-04 - val_loss: 1.7745e-04 - val_acc: 0.0000e+00\n",
            "Epoch 28/100\n",
            "35057/35057 [==============================] - 2s 71us/step - loss: 7.3472e-04 - acc: 3.7082e-04 - val_loss: 2.1788e-04 - val_acc: 0.0000e+00\n",
            "Epoch 29/100\n",
            "35057/35057 [==============================] - 2s 71us/step - loss: 7.3253e-04 - acc: 3.7082e-04 - val_loss: 1.5434e-04 - val_acc: 0.0000e+00\n",
            "Epoch 30/100\n",
            "35057/35057 [==============================] - 3s 72us/step - loss: 7.2283e-04 - acc: 3.7082e-04 - val_loss: 1.9045e-04 - val_acc: 0.0000e+00\n",
            "Epoch 31/100\n",
            "35057/35057 [==============================] - 2s 71us/step - loss: 7.3753e-04 - acc: 3.7082e-04 - val_loss: 1.3851e-04 - val_acc: 0.0000e+00\n",
            "Epoch 32/100\n",
            "35057/35057 [==============================] - 3s 72us/step - loss: 7.3967e-04 - acc: 3.7082e-04 - val_loss: 1.3525e-04 - val_acc: 0.0000e+00\n",
            "Epoch 33/100\n",
            "35057/35057 [==============================] - 2s 71us/step - loss: 7.2686e-04 - acc: 3.7082e-04 - val_loss: 1.4507e-04 - val_acc: 0.0000e+00\n",
            "Epoch 34/100\n",
            "35057/35057 [==============================] - 3s 72us/step - loss: 7.3469e-04 - acc: 3.7082e-04 - val_loss: 1.4708e-04 - val_acc: 0.0000e+00\n",
            "Epoch 35/100\n",
            "35057/35057 [==============================] - 3s 72us/step - loss: 7.2693e-04 - acc: 3.7082e-04 - val_loss: 1.7207e-04 - val_acc: 0.0000e+00\n",
            "Epoch 36/100\n",
            "35057/35057 [==============================] - 2s 71us/step - loss: 7.2071e-04 - acc: 3.7082e-04 - val_loss: 1.6841e-04 - val_acc: 0.0000e+00\n",
            "Epoch 37/100\n",
            "35057/35057 [==============================] - 2s 70us/step - loss: 7.2557e-04 - acc: 3.7082e-04 - val_loss: 2.1056e-04 - val_acc: 0.0000e+00\n",
            "Epoch 38/100\n",
            "35057/35057 [==============================] - 2s 71us/step - loss: 7.3146e-04 - acc: 3.7082e-04 - val_loss: 3.6973e-04 - val_acc: 0.0000e+00\n",
            "Epoch 39/100\n",
            "35057/35057 [==============================] - 2s 71us/step - loss: 7.3519e-04 - acc: 3.7082e-04 - val_loss: 1.4162e-04 - val_acc: 0.0000e+00\n",
            "Epoch 40/100\n",
            "35057/35057 [==============================] - 2s 71us/step - loss: 7.2645e-04 - acc: 3.7082e-04 - val_loss: 3.7232e-04 - val_acc: 0.0000e+00\n",
            "Epoch 41/100\n",
            "35057/35057 [==============================] - 2s 70us/step - loss: 7.2300e-04 - acc: 3.7082e-04 - val_loss: 1.5015e-04 - val_acc: 0.0000e+00\n",
            "Epoch 42/100\n",
            "35057/35057 [==============================] - 2s 71us/step - loss: 7.2786e-04 - acc: 3.7082e-04 - val_loss: 1.5104e-04 - val_acc: 0.0000e+00\n",
            "Epoch 43/100\n",
            "35057/35057 [==============================] - 2s 71us/step - loss: 7.2878e-04 - acc: 3.7082e-04 - val_loss: 1.4454e-04 - val_acc: 0.0000e+00\n",
            "Epoch 44/100\n",
            "35057/35057 [==============================] - 2s 70us/step - loss: 7.0932e-04 - acc: 3.7082e-04 - val_loss: 1.5475e-04 - val_acc: 0.0000e+00\n",
            "Epoch 45/100\n",
            "35057/35057 [==============================] - 2s 70us/step - loss: 7.1497e-04 - acc: 3.7082e-04 - val_loss: 1.4685e-04 - val_acc: 0.0000e+00\n",
            "Epoch 46/100\n",
            "35057/35057 [==============================] - 2s 71us/step - loss: 7.3425e-04 - acc: 3.7082e-04 - val_loss: 4.9172e-04 - val_acc: 0.0000e+00\n",
            "Epoch 47/100\n",
            "35057/35057 [==============================] - 3s 71us/step - loss: 7.2844e-04 - acc: 3.7082e-04 - val_loss: 2.2256e-04 - val_acc: 0.0000e+00\n",
            "Epoch 48/100\n",
            "35057/35057 [==============================] - 3s 72us/step - loss: 7.2488e-04 - acc: 3.7082e-04 - val_loss: 2.0906e-04 - val_acc: 0.0000e+00\n",
            "Epoch 49/100\n",
            "35057/35057 [==============================] - 2s 71us/step - loss: 7.1884e-04 - acc: 3.7082e-04 - val_loss: 1.6752e-04 - val_acc: 0.0000e+00\n",
            "Epoch 50/100\n",
            "35057/35057 [==============================] - 3s 72us/step - loss: 7.2249e-04 - acc: 3.7082e-04 - val_loss: 1.3873e-04 - val_acc: 0.0000e+00\n",
            "Epoch 51/100\n",
            "35057/35057 [==============================] - 3s 72us/step - loss: 7.3701e-04 - acc: 3.7082e-04 - val_loss: 1.7898e-04 - val_acc: 0.0000e+00\n",
            "Epoch 52/100\n",
            "35057/35057 [==============================] - 3s 73us/step - loss: 7.1513e-04 - acc: 3.7082e-04 - val_loss: 1.6016e-04 - val_acc: 0.0000e+00\n",
            "Epoch 53/100\n",
            "35057/35057 [==============================] - 3s 73us/step - loss: 7.2685e-04 - acc: 3.7082e-04 - val_loss: 2.9378e-04 - val_acc: 0.0000e+00\n",
            "Epoch 54/100\n",
            "35057/35057 [==============================] - 2s 71us/step - loss: 7.3326e-04 - acc: 3.7082e-04 - val_loss: 1.4815e-04 - val_acc: 0.0000e+00\n",
            "Epoch 55/100\n",
            "35057/35057 [==============================] - 3s 72us/step - loss: 7.2270e-04 - acc: 3.7082e-04 - val_loss: 2.7751e-04 - val_acc: 0.0000e+00\n",
            "Epoch 56/100\n",
            "35057/35057 [==============================] - 3s 73us/step - loss: 7.3409e-04 - acc: 3.7082e-04 - val_loss: 2.1129e-04 - val_acc: 0.0000e+00\n",
            "Epoch 57/100\n",
            "35057/35057 [==============================] - 3s 73us/step - loss: 7.3219e-04 - acc: 3.7082e-04 - val_loss: 1.8150e-04 - val_acc: 0.0000e+00\n",
            "Epoch 58/100\n",
            "35057/35057 [==============================] - 3s 72us/step - loss: 7.3015e-04 - acc: 3.7082e-04 - val_loss: 2.2198e-04 - val_acc: 0.0000e+00\n",
            "Epoch 59/100\n",
            "35057/35057 [==============================] - 3s 72us/step - loss: 7.2160e-04 - acc: 3.7082e-04 - val_loss: 1.7264e-04 - val_acc: 0.0000e+00\n",
            "Epoch 60/100\n",
            "35057/35057 [==============================] - 3s 72us/step - loss: 7.1987e-04 - acc: 3.7082e-04 - val_loss: 1.4444e-04 - val_acc: 0.0000e+00\n",
            "Epoch 61/100\n",
            "35057/35057 [==============================] - 3s 73us/step - loss: 7.3064e-04 - acc: 3.7082e-04 - val_loss: 1.6167e-04 - val_acc: 0.0000e+00\n",
            "Epoch 62/100\n",
            "35057/35057 [==============================] - 3s 75us/step - loss: 7.2679e-04 - acc: 3.7082e-04 - val_loss: 1.5652e-04 - val_acc: 0.0000e+00\n",
            "Epoch 63/100\n",
            "35057/35057 [==============================] - 3s 77us/step - loss: 7.2087e-04 - acc: 3.7082e-04 - val_loss: 1.3813e-04 - val_acc: 0.0000e+00\n",
            "Epoch 64/100\n",
            "35057/35057 [==============================] - 3s 73us/step - loss: 7.2643e-04 - acc: 3.7082e-04 - val_loss: 2.4682e-04 - val_acc: 0.0000e+00\n",
            "Epoch 65/100\n",
            "35057/35057 [==============================] - 3s 73us/step - loss: 7.2737e-04 - acc: 3.7082e-04 - val_loss: 2.0084e-04 - val_acc: 0.0000e+00\n",
            "Epoch 66/100\n",
            "35057/35057 [==============================] - 3s 74us/step - loss: 7.1405e-04 - acc: 3.7082e-04 - val_loss: 2.5299e-04 - val_acc: 0.0000e+00\n",
            "Epoch 67/100\n",
            "35057/35057 [==============================] - 3s 71us/step - loss: 7.1265e-04 - acc: 3.7082e-04 - val_loss: 1.3384e-04 - val_acc: 0.0000e+00\n",
            "Epoch 68/100\n",
            "35057/35057 [==============================] - 3s 73us/step - loss: 7.1722e-04 - acc: 3.7082e-04 - val_loss: 1.7602e-04 - val_acc: 0.0000e+00\n",
            "Epoch 69/100\n",
            "35057/35057 [==============================] - 3s 72us/step - loss: 7.3639e-04 - acc: 3.7082e-04 - val_loss: 1.8779e-04 - val_acc: 0.0000e+00\n",
            "Epoch 70/100\n",
            "35057/35057 [==============================] - 3s 71us/step - loss: 7.2617e-04 - acc: 3.7082e-04 - val_loss: 2.1002e-04 - val_acc: 0.0000e+00\n",
            "Epoch 71/100\n",
            "35057/35057 [==============================] - 2s 70us/step - loss: 7.1944e-04 - acc: 3.7082e-04 - val_loss: 1.4044e-04 - val_acc: 0.0000e+00\n",
            "Epoch 72/100\n",
            "35057/35057 [==============================] - 2s 71us/step - loss: 7.1452e-04 - acc: 3.7082e-04 - val_loss: 2.5795e-04 - val_acc: 0.0000e+00\n",
            "Epoch 73/100\n",
            "35057/35057 [==============================] - 2s 71us/step - loss: 7.2684e-04 - acc: 3.7082e-04 - val_loss: 1.7229e-04 - val_acc: 0.0000e+00\n",
            "Epoch 74/100\n",
            "35057/35057 [==============================] - 2s 71us/step - loss: 7.1999e-04 - acc: 3.7082e-04 - val_loss: 3.5618e-04 - val_acc: 0.0000e+00\n",
            "Epoch 75/100\n",
            "35057/35057 [==============================] - 2s 71us/step - loss: 7.3052e-04 - acc: 3.7082e-04 - val_loss: 2.0429e-04 - val_acc: 0.0000e+00\n",
            "Epoch 76/100\n",
            "35057/35057 [==============================] - 3s 71us/step - loss: 7.4071e-04 - acc: 3.7082e-04 - val_loss: 2.4266e-04 - val_acc: 0.0000e+00\n",
            "Epoch 77/100\n",
            "35057/35057 [==============================] - 2s 71us/step - loss: 7.2744e-04 - acc: 3.7082e-04 - val_loss: 1.4812e-04 - val_acc: 0.0000e+00\n",
            "Epoch 78/100\n",
            "35057/35057 [==============================] - 2s 71us/step - loss: 7.1622e-04 - acc: 3.7082e-04 - val_loss: 1.3407e-04 - val_acc: 0.0000e+00\n",
            "Epoch 79/100\n",
            "35057/35057 [==============================] - 2s 71us/step - loss: 7.1538e-04 - acc: 3.7082e-04 - val_loss: 1.6489e-04 - val_acc: 0.0000e+00\n",
            "Epoch 80/100\n",
            "35057/35057 [==============================] - 2s 70us/step - loss: 7.1788e-04 - acc: 3.7082e-04 - val_loss: 1.3280e-04 - val_acc: 0.0000e+00\n",
            "Epoch 81/100\n",
            "35057/35057 [==============================] - 3s 71us/step - loss: 7.2519e-04 - acc: 3.7082e-04 - val_loss: 1.8444e-04 - val_acc: 0.0000e+00\n",
            "Epoch 82/100\n",
            "35057/35057 [==============================] - 3s 73us/step - loss: 7.1578e-04 - acc: 3.7082e-04 - val_loss: 1.3795e-04 - val_acc: 0.0000e+00\n",
            "Epoch 83/100\n",
            "35057/35057 [==============================] - 3s 76us/step - loss: 7.1264e-04 - acc: 3.7082e-04 - val_loss: 2.1216e-04 - val_acc: 0.0000e+00\n",
            "Epoch 84/100\n",
            "35057/35057 [==============================] - 3s 77us/step - loss: 7.1505e-04 - acc: 3.7082e-04 - val_loss: 1.3706e-04 - val_acc: 0.0000e+00\n",
            "Epoch 85/100\n",
            "35057/35057 [==============================] - 3s 76us/step - loss: 7.2320e-04 - acc: 3.7082e-04 - val_loss: 1.5627e-04 - val_acc: 0.0000e+00\n",
            "Epoch 86/100\n",
            "35057/35057 [==============================] - 3s 74us/step - loss: 7.2467e-04 - acc: 3.7082e-04 - val_loss: 1.4469e-04 - val_acc: 0.0000e+00\n",
            "Epoch 87/100\n",
            "35057/35057 [==============================] - 2s 70us/step - loss: 7.2774e-04 - acc: 3.7082e-04 - val_loss: 1.3859e-04 - val_acc: 0.0000e+00\n",
            "Epoch 88/100\n",
            "35057/35057 [==============================] - 2s 71us/step - loss: 7.0920e-04 - acc: 3.7082e-04 - val_loss: 2.3359e-04 - val_acc: 0.0000e+00\n",
            "Epoch 89/100\n",
            "35057/35057 [==============================] - 3s 71us/step - loss: 7.2606e-04 - acc: 3.7082e-04 - val_loss: 1.5536e-04 - val_acc: 0.0000e+00\n",
            "Epoch 90/100\n",
            "35057/35057 [==============================] - 3s 72us/step - loss: 7.2187e-04 - acc: 3.7082e-04 - val_loss: 1.5754e-04 - val_acc: 0.0000e+00\n",
            "Epoch 91/100\n",
            "35057/35057 [==============================] - 2s 71us/step - loss: 7.1334e-04 - acc: 3.7082e-04 - val_loss: 1.5574e-04 - val_acc: 0.0000e+00\n",
            "Epoch 92/100\n",
            "35057/35057 [==============================] - 2s 71us/step - loss: 7.2494e-04 - acc: 3.7082e-04 - val_loss: 2.2022e-04 - val_acc: 0.0000e+00\n",
            "Epoch 93/100\n",
            "35057/35057 [==============================] - 3s 71us/step - loss: 7.0378e-04 - acc: 3.7082e-04 - val_loss: 1.4487e-04 - val_acc: 0.0000e+00\n",
            "Epoch 94/100\n",
            "35057/35057 [==============================] - 2s 71us/step - loss: 7.1980e-04 - acc: 3.7082e-04 - val_loss: 1.5107e-04 - val_acc: 0.0000e+00\n",
            "Epoch 95/100\n",
            "35057/35057 [==============================] - 2s 71us/step - loss: 7.2120e-04 - acc: 3.7082e-04 - val_loss: 1.4761e-04 - val_acc: 0.0000e+00\n",
            "Epoch 96/100\n",
            "35057/35057 [==============================] - 2s 71us/step - loss: 7.2306e-04 - acc: 3.7082e-04 - val_loss: 1.3492e-04 - val_acc: 0.0000e+00\n",
            "Epoch 97/100\n",
            "35057/35057 [==============================] - 3s 72us/step - loss: 7.2954e-04 - acc: 3.7082e-04 - val_loss: 1.7068e-04 - val_acc: 0.0000e+00\n",
            "Epoch 98/100\n",
            "35057/35057 [==============================] - 2s 70us/step - loss: 7.2228e-04 - acc: 3.7082e-04 - val_loss: 1.4193e-04 - val_acc: 0.0000e+00\n",
            "Epoch 99/100\n",
            "35057/35057 [==============================] - 2s 71us/step - loss: 7.2591e-04 - acc: 3.7082e-04 - val_loss: 1.4018e-04 - val_acc: 0.0000e+00\n",
            "Epoch 100/100\n",
            "35057/35057 [==============================] - 3s 71us/step - loss: 7.2494e-04 - acc: 3.7082e-04 - val_loss: 1.6224e-04 - val_acc: 0.0000e+00\n"
          ],
          "name": "stdout"
        },
        {
          "output_type": "execute_result",
          "data": {
            "text/plain": [
              "<keras.callbacks.History at 0x7f28e94e57f0>"
            ]
          },
          "metadata": {
            "tags": []
          },
          "execution_count": 95
        }
      ]
    },
    {
      "cell_type": "code",
      "metadata": {
        "id": "tuffmM-iBjfn",
        "colab_type": "code",
        "colab": {}
      },
      "source": [
        "preds = ts_model.predict(X_val)\n",
        "pred_PRES = scaler.inverse_transform(preds)\n",
        "pred_PRES = np.squeeze(pred_PRES)"
      ],
      "execution_count": 0,
      "outputs": []
    },
    {
      "cell_type": "code",
      "metadata": {
        "id": "1J9Xku3_BjiT",
        "colab_type": "code",
        "colab": {
          "base_uri": "https://localhost:8080/",
          "height": 34
        },
        "outputId": "926744fc-e046-47ad-f42f-239ca3ff3547"
      },
      "source": [
        "from sklearn.metrics import r2_score\n",
        "r2 = r2_score(df_val['PRES'].loc[7:],pred_PRES)\n",
        "print('R-squared for the validation set : ',round(r2,4))"
      ],
      "execution_count": 98,
      "outputs": [
        {
          "output_type": "stream",
          "text": [
            "R-squared for the validation set :  0.9949\n"
          ],
          "name": "stdout"
        }
      ]
    },
    {
      "cell_type": "code",
      "metadata": {
        "id": "n4l9dtyMBjlb",
        "colab_type": "code",
        "colab": {
          "base_uri": "https://localhost:8080/",
          "height": 394
        },
        "outputId": "3b36c698-4812-477b-f21b-88b7da9f9c60"
      },
      "source": [
        "plt.figure(figsize=(5.5, 5.5))\n",
        "plt.plot(range(50), df_val['PRES'].loc[7:56], linestyle='-', marker='*', color='r')\n",
        "plt.plot(range(50), pred_PRES[:50], linestyle='-', marker='.', color='b')\n",
        "plt.legend(['Actual','Predicted'], loc=2)\n",
        "plt.title('Actual vs Predicted Air Pressure')\n",
        "plt.ylabel('Air Pressure')\n",
        "plt.xlabel('Index')\n",
        "#plt.savefig('plots/ch5/B07887_05_05.png', format='png', dpi=300)"
      ],
      "execution_count": 100,
      "outputs": [
        {
          "output_type": "execute_result",
          "data": {
            "text/plain": [
              "Text(0.5, 0, 'Index')"
            ]
          },
          "metadata": {
            "tags": []
          },
          "execution_count": 100
        },
        {
          "output_type": "display_data",
          "data": {
            "image/png": "[encoded data removed]",
            "text/plain": [
              "<Figure size 396x396 with 1 Axes>"
            ]
          },
          "metadata": {
            "tags": []
          }
        }
      ]
    },
    {
      "cell_type": "code",
      "metadata": {
        "id": "8andTAk8a6Xg",
        "colab_type": "code",
        "colab": {
          "base_uri": "https://localhost:8080/",
          "height": 394
        },
        "outputId": "8e2667f2-2720-44e3-d4a8-92056325ac6a"
      },
      "source": [
        "#Now we predict the values of pm2.5\n",
        "plt.figure(figsize=(5.5, 5.5))\n",
        "g = sns.boxplot(df['pm2.5'])\n",
        "g.set_title('Box plot of pm2.5')"
      ],
      "execution_count": 101,
      "outputs": [
        {
          "output_type": "execute_result",
          "data": {
            "text/plain": [
              "Text(0.5, 1.0, 'Box plot of pm2.5')"
            ]
          },
          "metadata": {
            "tags": []
          },
          "execution_count": 101
        },
        {
          "output_type": "display_data",
          "data": {
            "image/png": "[encoded data removed]",
            "text/plain": [
              "<Figure size 396x396 with 1 Axes>"
            ]
          },
          "metadata": {
            "tags": []
          }
        }
      ]
    },
    {
      "cell_type": "code",
      "metadata": {
        "id": "gOjy5np_a6vi",
        "colab_type": "code",
        "colab": {
          "base_uri": "https://localhost:8080/",
          "height": 450
        },
        "outputId": "6ff846e4-42cc-43e6-9e06-2fe34cc11b29"
      },
      "source": [
        "plt.figure(figsize=(5.5, 5.5))\n",
        "g = sns.tsplot(df['pm2.5'].loc[df['datetime']<=datetime.datetime(year=2010,\n",
        "month=6,day=30)], color='g')\n",
        "g.set_title('pm2.5 during 2010')\n",
        "g.set_xlabel('Index')\n",
        "g.set_ylabel('pm2.5 readings')"
      ],
      "execution_count": 102,
      "outputs": [
        {
          "output_type": "stream",
          "text": [
            "/usr/local/lib/python3.6/dist-packages/seaborn/timeseries.py:183: UserWarning: The `tsplot` function is deprecated and will be removed in a future release. Please update your code to use the new `lineplot` function.\n",
            "  warnings.warn(msg, UserWarning)\n"
          ],
          "name": "stderr"
        },
        {
          "output_type": "execute_result",
          "data": {
            "text/plain": [
              "Text(0, 0.5, 'pm2.5 readings')"
            ]
          },
          "metadata": {
            "tags": []
          },
          "execution_count": 102
        },
        {
          "output_type": "display_data",
          "data": {
            "image/png": "[encoded data removed]",
            "text/plain": [
              "<Figure size 396x396 with 1 Axes>"
            ]
          },
          "metadata": {
            "tags": []
          }
        }
      ]
    },
    {
      "cell_type": "code",
      "metadata": {
        "id": "-jFxVQgHa6zm",
        "colab_type": "code",
        "colab": {
          "base_uri": "https://localhost:8080/",
          "height": 450
        },
        "outputId": "6c8de737-8a26-467b-d1d8-7fad2a1cf686"
      },
      "source": [
        "plt.figure(figsize=(5.5, 5.5))\n",
        "g = sns.tsplot(df['pm2.5'].loc[df['datetime']<=datetime.datetime(year=2010,\n",
        "month=1,day=31)], color='g')\n",
        "g.set_title('pm2.5 during Jan 2010')\n",
        "g.set_xlabel('Index')\n",
        "g.set_ylabel('pm2.5 readings')"
      ],
      "execution_count": 103,
      "outputs": [
        {
          "output_type": "stream",
          "text": [
            "/usr/local/lib/python3.6/dist-packages/seaborn/timeseries.py:183: UserWarning: The `tsplot` function is deprecated and will be removed in a future release. Please update your code to use the new `lineplot` function.\n",
            "  warnings.warn(msg, UserWarning)\n"
          ],
          "name": "stderr"
        },
        {
          "output_type": "execute_result",
          "data": {
            "text/plain": [
              "Text(0, 0.5, 'pm2.5 readings')"
            ]
          },
          "metadata": {
            "tags": []
          },
          "execution_count": 103
        },
        {
          "output_type": "display_data",
          "data": {
            "image/png": "[encoded data removed]",
            "text/plain": [
              "<Figure size 396x396 with 1 Axes>"
            ]
          },
          "metadata": {
            "tags": []
          }
        }
      ]
    },
    {
      "cell_type": "code",
      "metadata": {
        "id": "dz03JgQLa6sh",
        "colab_type": "code",
        "colab": {
          "base_uri": "https://localhost:8080/",
          "height": 722
        },
        "outputId": "0e5cecfa-f0dc-44c1-dbcc-a7108326e71b"
      },
      "source": [
        "plt.figure(figsize=(10.5, 10.5))\n",
        "g = sns.tsplot(df['pm2.5'])\n",
        "g.set_title('Time series of pm2.5')\n",
        "g.set_xlabel('Index')\n",
        "g.set_ylabel('pm2.5 readings')\n"
      ],
      "execution_count": 105,
      "outputs": [
        {
          "output_type": "stream",
          "text": [
            "/usr/local/lib/python3.6/dist-packages/seaborn/timeseries.py:183: UserWarning: The `tsplot` function is deprecated and will be removed in a future release. Please update your code to use the new `lineplot` function.\n",
            "  warnings.warn(msg, UserWarning)\n"
          ],
          "name": "stderr"
        },
        {
          "output_type": "execute_result",
          "data": {
            "text/plain": [
              "Text(0, 0.5, 'pm2.5 readings')"
            ]
          },
          "metadata": {
            "tags": []
          },
          "execution_count": 105
        },
        {
          "output_type": "display_data",
          "data": {
            "image/png": "[encoded data removed]",
            "text/plain": [
              "<Figure size 756x756 with 1 Axes>"
            ]
          },
          "metadata": {
            "tags": []
          }
        }
      ]
    },
    {
      "cell_type": "code",
      "metadata": {
        "id": "sMx0xHcza6jd",
        "colab_type": "code",
        "colab": {
          "base_uri": "https://localhost:8080/",
          "height": 1106
        },
        "outputId": "2651f51d-4f42-468c-f3db-c906f6106bb0"
      },
      "source": [
        "new_df = df['pm2.5'].dropna()\n",
        "new_df"
      ],
      "execution_count": 115,
      "outputs": [
        {
          "output_type": "execute_result",
          "data": {
            "text/plain": [
              "24       129.0\n",
              "25       148.0\n",
              "26       159.0\n",
              "27       181.0\n",
              "28       138.0\n",
              "29       109.0\n",
              "30       105.0\n",
              "31       124.0\n",
              "32       120.0\n",
              "33       132.0\n",
              "34       140.0\n",
              "35       152.0\n",
              "36       148.0\n",
              "37       164.0\n",
              "38       158.0\n",
              "39       154.0\n",
              "40       159.0\n",
              "41       164.0\n",
              "42       170.0\n",
              "43       149.0\n",
              "44       154.0\n",
              "45       164.0\n",
              "46       156.0\n",
              "47       126.0\n",
              "48        90.0\n",
              "49        63.0\n",
              "50        65.0\n",
              "51        55.0\n",
              "52        65.0\n",
              "53        83.0\n",
              "         ...  \n",
              "43794     79.0\n",
              "43795     35.0\n",
              "43796     26.0\n",
              "43797     20.0\n",
              "43798      8.0\n",
              "43799     16.0\n",
              "43800     10.0\n",
              "43801     11.0\n",
              "43802     20.0\n",
              "43803      9.0\n",
              "43804      8.0\n",
              "43805      9.0\n",
              "43806      8.0\n",
              "43807      8.0\n",
              "43808      8.0\n",
              "43809      8.0\n",
              "43810      7.0\n",
              "43811     12.0\n",
              "43812     17.0\n",
              "43813     11.0\n",
              "43814      9.0\n",
              "43815     11.0\n",
              "43816      8.0\n",
              "43817      9.0\n",
              "43818     10.0\n",
              "43819      8.0\n",
              "43820     10.0\n",
              "43821     10.0\n",
              "43822      8.0\n",
              "43823     12.0\n",
              "Name: pm2.5, Length: 41757, dtype: float64"
            ]
          },
          "metadata": {
            "tags": []
          },
          "execution_count": 115
        }
      ]
    },
    {
      "cell_type": "code",
      "metadata": {
        "id": "AykB32priSIT",
        "colab_type": "code",
        "colab": {}
      },
      "source": [
        "\n",
        "scaler = MinMaxScaler(feature_range=(0,1))\n",
        "df['scaled_pm2.5'] = scaler.fit_transform(np.array(df['pm2.5']).reshape(-1,1))\n",
        "split_date = datetime.datetime(year=2014,month=1,day=1,hour=0)\n",
        "df_train = df.loc[df['datetime']<split_date]\n",
        "df_val = df.loc[df['datetime']>=split_date]\n",
        "print('Shape of the training set : ',df_train.shape)\n",
        "print('Shape of the test set : ',df_val.shape)"
      ],
      "execution_count": 0,
      "outputs": []
    },
    {
      "cell_type": "code",
      "metadata": {
        "id": "VghPgI4ua6gK",
        "colab_type": "code",
        "colab": {
          "base_uri": "https://localhost:8080/",
          "height": 34
        },
        "outputId": "83f3617e-5001-4177-dcd0-6c649735970c"
      },
      "source": [
        "X_train,y_train = makeXy(df_train['scaled_pm2.5'],7)\n",
        "print('Shape of the training dataset : ',X_train.shape,y_train.shape)\n"
      ],
      "execution_count": 111,
      "outputs": [
        {
          "output_type": "stream",
          "text": [
            "Shape of the training dataset :  (35057, 7) (35057,)\n"
          ],
          "name": "stdout"
        }
      ]
    },
    {
      "cell_type": "code",
      "metadata": {
        "id": "K1CPo_aaBjo0",
        "colab_type": "code",
        "colab": {}
      },
      "source": [
        "k = new_df.index.values\n",
        "l = []\n",
        "for i in range(k.shape[0]):\n",
        "    l.append(i)\n",
        "l = np.array(l)\n",
        "new_df.index = l\n"
      ],
      "execution_count": 0,
      "outputs": []
    },
    {
      "cell_type": "code",
      "metadata": {
        "id": "UWXRT2b1kzc7",
        "colab_type": "code",
        "colab": {}
      },
      "source": [
        "scaler = MinMaxScaler(feature_range=(0,1))\n",
        "new_df['scaled_pm2.5'] = scaler.fit_transform(np.array(new_df).reshape(-1,1))"
      ],
      "execution_count": 0,
      "outputs": []
    },
    {
      "cell_type": "code",
      "metadata": {
        "id": "9Rqky1cylHLg",
        "colab_type": "code",
        "colab": {
          "base_uri": "https://localhost:8080/",
          "height": 122
        },
        "outputId": "0bfef0ba-59f7-4088-fd0e-466dcc208182"
      },
      "source": [
        "#new_df = new_df.drop('scaled_pm2.5',axis=0)\n",
        "new_df.head()"
      ],
      "execution_count": 134,
      "outputs": [
        {
          "output_type": "execute_result",
          "data": {
            "text/plain": [
              "0    129\n",
              "1    148\n",
              "2    159\n",
              "3    181\n",
              "4    138\n",
              "Name: pm2.5, dtype: object"
            ]
          },
          "metadata": {
            "tags": []
          },
          "execution_count": 134
        }
      ]
    },
    {
      "cell_type": "code",
      "metadata": {
        "id": "m_pmjInblYvy",
        "colab_type": "code",
        "colab": {
          "base_uri": "https://localhost:8080/",
          "height": 87
        },
        "outputId": "57f45113-a82f-40f6-e17d-6a50eb1db3f4"
      },
      "source": [
        ""
      ],
      "execution_count": 135,
      "outputs": [
        {
          "output_type": "execute_result",
          "data": {
            "text/plain": [
              "Index([    0,     1,     2,     3,     4,     5,     6,     7,     8,     9,\n",
              "       ...\n",
              "       41747, 41748, 41749, 41750, 41751, 41752, 41753, 41754, 41755, 41756],\n",
              "      dtype='object', length=41757)"
            ]
          },
          "metadata": {
            "tags": []
          },
          "execution_count": 135
        }
      ]
    },
    {
      "cell_type": "code",
      "metadata": {
        "id": "TkeHXM9Xkjc1",
        "colab_type": "code",
        "colab": {
          "base_uri": "https://localhost:8080/",
          "height": 122
        },
        "outputId": "b97b3410-f758-4a9d-ee8a-b8fa4a37479e"
      },
      "source": [
        "#rescaling\n",
        "min1 = new_df.min()\n",
        "max1 = new_df.max()\n",
        "new_df1 = (new_df - min1)/(max1 - min1)\n",
        "new_df1.head()\n"
      ],
      "execution_count": 139,
      "outputs": [
        {
          "output_type": "execute_result",
          "data": {
            "text/plain": [
              "0    0.129779\n",
              "1    0.148893\n",
              "2     0.15996\n",
              "3    0.182093\n",
              "4    0.138833\n",
              "Name: pm2.5, dtype: object"
            ]
          },
          "metadata": {
            "tags": []
          },
          "execution_count": 139
        }
      ]
    },
    {
      "cell_type": "code",
      "metadata": {
        "id": "0p1zyqdSm-RY",
        "colab_type": "code",
        "colab": {}
      },
      "source": [
        "X_train = []\n",
        "Y_train = []\n",
        "for i in range(7,new_df1.shape[0]):\n",
        "  X_train.append(new_df1[i-7:i])\n",
        "  Y_train.append(new_df1[i])\n",
        "  "
      ],
      "execution_count": 0,
      "outputs": []
    },
    {
      "cell_type": "code",
      "metadata": {
        "id": "2MMQsXkHm-Ge",
        "colab_type": "code",
        "colab": {}
      },
      "source": [
        "X_train = np.array(X_train)\n",
        "Y_train = np.array(Y_train)"
      ],
      "execution_count": 0,
      "outputs": []
    },
    {
      "cell_type": "code",
      "metadata": {
        "id": "PADfqfujnpyX",
        "colab_type": "code",
        "colab": {
          "base_uri": "https://localhost:8080/",
          "height": 34
        },
        "outputId": "e7119c2f-affd-45fd-f5a8-03e189bf4624"
      },
      "source": [
        "print(\"The shape of training dataset is : \",X_train.shape,Y_train.shape)"
      ],
      "execution_count": 159,
      "outputs": [
        {
          "output_type": "stream",
          "text": [
            "The shape of training dataset is :  (41750, 7) (41750,)\n"
          ],
          "name": "stdout"
        }
      ]
    },
    {
      "cell_type": "code",
      "metadata": {
        "id": "uQFnnKNFnpjd",
        "colab_type": "code",
        "colab": {}
      },
      "source": [
        "X_train1 = X_train[0:35750]\n",
        "Y_train1 = Y_train[0:35750]\n",
        "X_val = X_train[35750:]\n",
        "Y_val = Y_train[35750:]"
      ],
      "execution_count": 0,
      "outputs": []
    },
    {
      "cell_type": "code",
      "metadata": {
        "id": "DtE_Ncu1uTUX",
        "colab_type": "code",
        "colab": {
          "base_uri": "https://localhost:8080/",
          "height": 52
        },
        "outputId": "bb5bd939-eba6-4163-b5ee-871c4a6ebdea"
      },
      "source": [
        "Y_train1"
      ],
      "execution_count": 175,
      "outputs": [
        {
          "output_type": "execute_result",
          "data": {
            "text/plain": [
              "array([0.12474849, 0.12072435, 0.13279678, ..., 0.10462777, 0.08450704,\n",
              "       0.04225352])"
            ]
          },
          "metadata": {
            "tags": []
          },
          "execution_count": 175
        }
      ]
    },
    {
      "cell_type": "code",
      "metadata": {
        "id": "jEadOdnOqPBC",
        "colab_type": "code",
        "colab": {
          "base_uri": "https://localhost:8080/",
          "height": 34
        },
        "outputId": "b7e95928-5955-4339-b39b-0a5461afa18a"
      },
      "source": [
        "X_val.shape"
      ],
      "execution_count": 176,
      "outputs": [
        {
          "output_type": "execute_result",
          "data": {
            "text/plain": [
              "(6000, 7)"
            ]
          },
          "metadata": {
            "tags": []
          },
          "execution_count": 176
        }
      ]
    },
    {
      "cell_type": "code",
      "metadata": {
        "id": "p_OtzyGmBjsh",
        "colab_type": "code",
        "colab": {}
      },
      "source": [
        "input_layer = Input(shape=(7,), dtype='float32')\n",
        "dense1 = Dense(32, activation='tanh')(input_layer)\n",
        "dense2 = Dense(16, activation='tanh')(dense1)\n",
        "dense3 = Dense(16, activation='tanh')(dense2)\n",
        "dropout_layer = Dropout(0.2)(dense3)\n",
        "output_layer = Dense(1, activation='linear')(dropout_layer)\n",
        "ts_model = Model(inputs=input_layer, outputs=output_layer)\n",
        "ts_model.compile(loss='mean_absolute_error', optimizer='adam')"
      ],
      "execution_count": 0,
      "outputs": []
    },
    {
      "cell_type": "code",
      "metadata": {
        "id": "fsgoTgr5h0mc",
        "colab_type": "code",
        "colab": {
          "base_uri": "https://localhost:8080/",
          "height": 3567
        },
        "outputId": "587cd8a1-b3d4-4ad3-faa7-3121f35989e0"
      },
      "source": [
        "ts_model.fit(x = X_train,y=Y_train,batch_size=16,epochs=100,verbose =1,validation_data=(X_val,Y_val),shuffle=True)"
      ],
      "execution_count": 178,
      "outputs": [
        {
          "output_type": "stream",
          "text": [
            "Train on 41750 samples, validate on 6000 samples\n",
            "Epoch 1/100\n",
            "41750/41750 [==============================] - 4s 96us/step - loss: 0.0175 - val_loss: 0.0121\n",
            "Epoch 2/100\n",
            "41750/41750 [==============================] - 3s 76us/step - loss: 0.0162 - val_loss: 0.0123\n",
            "Epoch 3/100\n",
            "41750/41750 [==============================] - 3s 76us/step - loss: 0.0160 - val_loss: 0.0109\n",
            "Epoch 4/100\n",
            "41750/41750 [==============================] - 3s 76us/step - loss: 0.0159 - val_loss: 0.0112\n",
            "Epoch 5/100\n",
            "41750/41750 [==============================] - 3s 76us/step - loss: 0.0158 - val_loss: 0.0115\n",
            "Epoch 6/100\n",
            "41750/41750 [==============================] - 3s 76us/step - loss: 0.0158 - val_loss: 0.0121\n",
            "Epoch 7/100\n",
            "41750/41750 [==============================] - 3s 76us/step - loss: 0.0157 - val_loss: 0.0107\n",
            "Epoch 8/100\n",
            "41750/41750 [==============================] - 3s 76us/step - loss: 0.0159 - val_loss: 0.0118\n",
            "Epoch 9/100\n",
            "41750/41750 [==============================] - 4s 91us/step - loss: 0.0157 - val_loss: 0.0112\n",
            "Epoch 10/100\n",
            "41750/41750 [==============================] - 3s 77us/step - loss: 0.0158 - val_loss: 0.0132\n",
            "Epoch 11/100\n",
            "41750/41750 [==============================] - 3s 76us/step - loss: 0.0157 - val_loss: 0.0116\n",
            "Epoch 12/100\n",
            "41750/41750 [==============================] - 3s 76us/step - loss: 0.0157 - val_loss: 0.0120\n",
            "Epoch 13/100\n",
            "41750/41750 [==============================] - 3s 77us/step - loss: 0.0158 - val_loss: 0.0123\n",
            "Epoch 14/100\n",
            "41750/41750 [==============================] - 3s 76us/step - loss: 0.0157 - val_loss: 0.0112\n",
            "Epoch 15/100\n",
            "41750/41750 [==============================] - 3s 76us/step - loss: 0.0158 - val_loss: 0.0116\n",
            "Epoch 16/100\n",
            "41750/41750 [==============================] - 3s 76us/step - loss: 0.0157 - val_loss: 0.0109\n",
            "Epoch 17/100\n",
            "41750/41750 [==============================] - 3s 77us/step - loss: 0.0157 - val_loss: 0.0111\n",
            "Epoch 18/100\n",
            "41750/41750 [==============================] - 3s 75us/step - loss: 0.0157 - val_loss: 0.0110\n",
            "Epoch 19/100\n",
            "41750/41750 [==============================] - 3s 76us/step - loss: 0.0157 - val_loss: 0.0110\n",
            "Epoch 20/100\n",
            "41750/41750 [==============================] - 3s 76us/step - loss: 0.0157 - val_loss: 0.0122\n",
            "Epoch 21/100\n",
            "41750/41750 [==============================] - 3s 76us/step - loss: 0.0157 - val_loss: 0.0113\n",
            "Epoch 22/100\n",
            "41750/41750 [==============================] - 3s 76us/step - loss: 0.0157 - val_loss: 0.0111\n",
            "Epoch 23/100\n",
            "41750/41750 [==============================] - 3s 76us/step - loss: 0.0157 - val_loss: 0.0122\n",
            "Epoch 24/100\n",
            "41750/41750 [==============================] - 3s 76us/step - loss: 0.0157 - val_loss: 0.0108\n",
            "Epoch 25/100\n",
            "41750/41750 [==============================] - 3s 76us/step - loss: 0.0157 - val_loss: 0.0127\n",
            "Epoch 26/100\n",
            "41750/41750 [==============================] - 3s 76us/step - loss: 0.0157 - val_loss: 0.0125\n",
            "Epoch 27/100\n",
            "41750/41750 [==============================] - 3s 76us/step - loss: 0.0156 - val_loss: 0.0112\n",
            "Epoch 28/100\n",
            "41750/41750 [==============================] - 3s 76us/step - loss: 0.0157 - val_loss: 0.0108\n",
            "Epoch 29/100\n",
            "41750/41750 [==============================] - 3s 76us/step - loss: 0.0157 - val_loss: 0.0112\n",
            "Epoch 30/100\n",
            "41750/41750 [==============================] - 3s 77us/step - loss: 0.0157 - val_loss: 0.0111\n",
            "Epoch 31/100\n",
            "41750/41750 [==============================] - 3s 76us/step - loss: 0.0156 - val_loss: 0.0124\n",
            "Epoch 32/100\n",
            "41750/41750 [==============================] - 3s 76us/step - loss: 0.0156 - val_loss: 0.0115\n",
            "Epoch 33/100\n",
            "41750/41750 [==============================] - 3s 77us/step - loss: 0.0156 - val_loss: 0.0115\n",
            "Epoch 34/100\n",
            "41750/41750 [==============================] - 3s 77us/step - loss: 0.0157 - val_loss: 0.0109\n",
            "Epoch 35/100\n",
            "41750/41750 [==============================] - 3s 76us/step - loss: 0.0157 - val_loss: 0.0113\n",
            "Epoch 36/100\n",
            "41750/41750 [==============================] - 3s 76us/step - loss: 0.0157 - val_loss: 0.0115\n",
            "Epoch 37/100\n",
            "41750/41750 [==============================] - 3s 76us/step - loss: 0.0157 - val_loss: 0.0108\n",
            "Epoch 38/100\n",
            "41750/41750 [==============================] - 3s 76us/step - loss: 0.0156 - val_loss: 0.0110\n",
            "Epoch 39/100\n",
            "41750/41750 [==============================] - 3s 76us/step - loss: 0.0157 - val_loss: 0.0113\n",
            "Epoch 40/100\n",
            "41750/41750 [==============================] - 3s 76us/step - loss: 0.0157 - val_loss: 0.0115\n",
            "Epoch 41/100\n",
            "41750/41750 [==============================] - 3s 76us/step - loss: 0.0156 - val_loss: 0.0114\n",
            "Epoch 42/100\n",
            "41750/41750 [==============================] - 3s 78us/step - loss: 0.0157 - val_loss: 0.0107\n",
            "Epoch 43/100\n",
            "41750/41750 [==============================] - 3s 80us/step - loss: 0.0157 - val_loss: 0.0108\n",
            "Epoch 44/100\n",
            "41750/41750 [==============================] - 3s 77us/step - loss: 0.0157 - val_loss: 0.0109\n",
            "Epoch 45/100\n",
            "41750/41750 [==============================] - 3s 76us/step - loss: 0.0157 - val_loss: 0.0122\n",
            "Epoch 46/100\n",
            "41750/41750 [==============================] - 3s 76us/step - loss: 0.0156 - val_loss: 0.0107\n",
            "Epoch 47/100\n",
            "41750/41750 [==============================] - 3s 76us/step - loss: 0.0155 - val_loss: 0.0113\n",
            "Epoch 48/100\n",
            "41750/41750 [==============================] - 3s 76us/step - loss: 0.0156 - val_loss: 0.0113\n",
            "Epoch 49/100\n",
            "41750/41750 [==============================] - 3s 76us/step - loss: 0.0156 - val_loss: 0.0106\n",
            "Epoch 50/100\n",
            "41750/41750 [==============================] - 3s 76us/step - loss: 0.0157 - val_loss: 0.0136\n",
            "Epoch 51/100\n",
            "41750/41750 [==============================] - 3s 77us/step - loss: 0.0157 - val_loss: 0.0115\n",
            "Epoch 52/100\n",
            "41750/41750 [==============================] - 3s 77us/step - loss: 0.0156 - val_loss: 0.0114\n",
            "Epoch 53/100\n",
            "41750/41750 [==============================] - 3s 75us/step - loss: 0.0156 - val_loss: 0.0118\n",
            "Epoch 54/100\n",
            "41750/41750 [==============================] - 3s 76us/step - loss: 0.0156 - val_loss: 0.0110\n",
            "Epoch 55/100\n",
            "41750/41750 [==============================] - 3s 76us/step - loss: 0.0156 - val_loss: 0.0116\n",
            "Epoch 56/100\n",
            "41750/41750 [==============================] - 3s 77us/step - loss: 0.0155 - val_loss: 0.0111\n",
            "Epoch 57/100\n",
            "41750/41750 [==============================] - 3s 76us/step - loss: 0.0156 - val_loss: 0.0108\n",
            "Epoch 58/100\n",
            "41750/41750 [==============================] - 3s 76us/step - loss: 0.0155 - val_loss: 0.0121\n",
            "Epoch 59/100\n",
            "41750/41750 [==============================] - 3s 77us/step - loss: 0.0157 - val_loss: 0.0110\n",
            "Epoch 60/100\n",
            "41750/41750 [==============================] - 3s 79us/step - loss: 0.0156 - val_loss: 0.0115\n",
            "Epoch 61/100\n",
            "41750/41750 [==============================] - 3s 77us/step - loss: 0.0156 - val_loss: 0.0127\n",
            "Epoch 62/100\n",
            "41750/41750 [==============================] - 3s 77us/step - loss: 0.0157 - val_loss: 0.0111\n",
            "Epoch 63/100\n",
            "41750/41750 [==============================] - 3s 76us/step - loss: 0.0156 - val_loss: 0.0113\n",
            "Epoch 64/100\n",
            "41750/41750 [==============================] - 3s 76us/step - loss: 0.0156 - val_loss: 0.0121\n",
            "Epoch 65/100\n",
            "41750/41750 [==============================] - 3s 76us/step - loss: 0.0156 - val_loss: 0.0108\n",
            "Epoch 66/100\n",
            "41750/41750 [==============================] - 3s 76us/step - loss: 0.0157 - val_loss: 0.0116\n",
            "Epoch 67/100\n",
            "41750/41750 [==============================] - 3s 77us/step - loss: 0.0156 - val_loss: 0.0110\n",
            "Epoch 68/100\n",
            "41750/41750 [==============================] - 3s 77us/step - loss: 0.0157 - val_loss: 0.0108\n",
            "Epoch 69/100\n",
            "41750/41750 [==============================] - 3s 76us/step - loss: 0.0156 - val_loss: 0.0112\n",
            "Epoch 70/100\n",
            "41750/41750 [==============================] - 3s 77us/step - loss: 0.0156 - val_loss: 0.0120\n",
            "Epoch 71/100\n",
            "41750/41750 [==============================] - 3s 77us/step - loss: 0.0155 - val_loss: 0.0108\n",
            "Epoch 72/100\n",
            "41750/41750 [==============================] - 3s 77us/step - loss: 0.0157 - val_loss: 0.0108\n",
            "Epoch 73/100\n",
            "41750/41750 [==============================] - 3s 77us/step - loss: 0.0156 - val_loss: 0.0111\n",
            "Epoch 74/100\n",
            "41750/41750 [==============================] - 3s 76us/step - loss: 0.0156 - val_loss: 0.0121\n",
            "Epoch 75/100\n",
            "41750/41750 [==============================] - 3s 77us/step - loss: 0.0155 - val_loss: 0.0117\n",
            "Epoch 76/100\n",
            "41750/41750 [==============================] - 3s 76us/step - loss: 0.0157 - val_loss: 0.0108\n",
            "Epoch 77/100\n",
            "41750/41750 [==============================] - 3s 76us/step - loss: 0.0156 - val_loss: 0.0113\n",
            "Epoch 78/100\n",
            "41750/41750 [==============================] - 3s 76us/step - loss: 0.0156 - val_loss: 0.0120\n",
            "Epoch 79/100\n",
            "41750/41750 [==============================] - 3s 76us/step - loss: 0.0156 - val_loss: 0.0107\n",
            "Epoch 80/100\n",
            "41750/41750 [==============================] - 3s 76us/step - loss: 0.0156 - val_loss: 0.0106\n",
            "Epoch 81/100\n",
            "41750/41750 [==============================] - 3s 76us/step - loss: 0.0156 - val_loss: 0.0107\n",
            "Epoch 82/100\n",
            "41750/41750 [==============================] - 3s 77us/step - loss: 0.0155 - val_loss: 0.0113\n",
            "Epoch 83/100\n",
            "41750/41750 [==============================] - 3s 77us/step - loss: 0.0156 - val_loss: 0.0106\n",
            "Epoch 84/100\n",
            "41750/41750 [==============================] - 3s 76us/step - loss: 0.0156 - val_loss: 0.0108\n",
            "Epoch 85/100\n",
            "41750/41750 [==============================] - 3s 76us/step - loss: 0.0156 - val_loss: 0.0111\n",
            "Epoch 86/100\n",
            "41750/41750 [==============================] - 3s 77us/step - loss: 0.0155 - val_loss: 0.0108\n",
            "Epoch 87/100\n",
            "41750/41750 [==============================] - 3s 77us/step - loss: 0.0157 - val_loss: 0.0114\n",
            "Epoch 88/100\n",
            "41750/41750 [==============================] - 3s 76us/step - loss: 0.0156 - val_loss: 0.0119\n",
            "Epoch 89/100\n",
            "41750/41750 [==============================] - 3s 77us/step - loss: 0.0156 - val_loss: 0.0115\n",
            "Epoch 90/100\n",
            "41750/41750 [==============================] - 3s 80us/step - loss: 0.0155 - val_loss: 0.0118\n",
            "Epoch 91/100\n",
            "41750/41750 [==============================] - 3s 82us/step - loss: 0.0155 - val_loss: 0.0107\n",
            "Epoch 92/100\n",
            "41750/41750 [==============================] - 3s 82us/step - loss: 0.0155 - val_loss: 0.0109\n",
            "Epoch 93/100\n",
            "41750/41750 [==============================] - 3s 78us/step - loss: 0.0156 - val_loss: 0.0111\n",
            "Epoch 94/100\n",
            "41750/41750 [==============================] - 3s 76us/step - loss: 0.0156 - val_loss: 0.0111\n",
            "Epoch 95/100\n",
            "41750/41750 [==============================] - 3s 78us/step - loss: 0.0155 - val_loss: 0.0117\n",
            "Epoch 96/100\n",
            "41750/41750 [==============================] - 3s 76us/step - loss: 0.0155 - val_loss: 0.0108\n",
            "Epoch 97/100\n",
            "41750/41750 [==============================] - 3s 77us/step - loss: 0.0156 - val_loss: 0.0113\n",
            "Epoch 98/100\n",
            "41750/41750 [==============================] - 3s 77us/step - loss: 0.0156 - val_loss: 0.0113\n",
            "Epoch 99/100\n",
            "41750/41750 [==============================] - 3s 76us/step - loss: 0.0155 - val_loss: 0.0111\n",
            "Epoch 100/100\n",
            "41750/41750 [==============================] - 3s 76us/step - loss: 0.0157 - val_loss: 0.0111\n"
          ],
          "name": "stdout"
        },
        {
          "output_type": "execute_result",
          "data": {
            "text/plain": [
              "<keras.callbacks.History at 0x7f28e1cdac88>"
            ]
          },
          "metadata": {
            "tags": []
          },
          "execution_count": 178
        }
      ]
    },
    {
      "cell_type": "code",
      "metadata": {
        "id": "oVKRoEGBh0t1",
        "colab_type": "code",
        "colab": {}
      },
      "source": [
        "preds = ts_model.predict(X_val)\n",
        "pred_CO2 = scaler.inverse_transform(preds)\n",
        "pred_CO2 = np.squeeze(pred_CO2)"
      ],
      "execution_count": 0,
      "outputs": []
    },
    {
      "cell_type": "code",
      "metadata": {
        "id": "VnHHVNCmh1Au",
        "colab_type": "code",
        "colab": {
          "base_uri": "https://localhost:8080/",
          "height": 34
        },
        "outputId": "8a4c38d1-56df-415d-80d6-8751bf3101da"
      },
      "source": [
        "from sklearn.metrics import mean_absolute_error\n",
        "mae = mean_absolute_error(Y_val, pred_CO2)\n",
        "print('MAE for the validation set:', round(mae, 4))\n"
      ],
      "execution_count": 182,
      "outputs": [
        {
          "output_type": "stream",
          "text": [
            "MAE for the validation set: 82.3658\n"
          ],
          "name": "stdout"
        }
      ]
    },
    {
      "cell_type": "code",
      "metadata": {
        "id": "KXMNkMp8h1FB",
        "colab_type": "code",
        "colab": {
          "base_uri": "https://localhost:8080/",
          "height": 394
        },
        "outputId": "d6cc95e9-dfee-4cdc-c99f-b7d745278e63"
      },
      "source": [
        "k = df_val['pm2.5']\n",
        "plt.figure(figsize=(5.5, 5.5))\n",
        "plt.plot(range(50), k.loc[7:56], linestyle='-', marker='*', color='r')\n",
        "plt.plot(range(50), pred_CO2[:50], linestyle='-', marker='.', color='b')\n",
        "plt.legend(['Actual','Predicted'], loc=2)\n",
        "plt.title('Actual vs Predicted Air Pressure')\n",
        "plt.ylabel('Air Pressure')\n",
        "plt.xlabel('Index')\n",
        "#plt.savefig('plots/ch5/B07887_05_05.png', format='png', dpi=300)"
      ],
      "execution_count": 183,
      "outputs": [
        {
          "output_type": "execute_result",
          "data": {
            "text/plain": [
              "Text(0.5, 0, 'Index')"
            ]
          },
          "metadata": {
            "tags": []
          },
          "execution_count": 183
        },
        {
          "output_type": "display_data",
          "data": {
            "image/png": "[encoded data removed]",
            "text/plain": [
              "<Figure size 396x396 with 1 Axes>"
            ]
          },
          "metadata": {
            "tags": []
          }
        }
      ]
    },
    {
      "cell_type": "code",
      "metadata": {
        "id": "qrsadZnYh0-u",
        "colab_type": "code",
        "colab": {}
      },
      "source": [
        ""
      ],
      "execution_count": 0,
      "outputs": []
    },
    {
      "cell_type": "code",
      "metadata": {
        "id": "CFBtAKUyh0pq",
        "colab_type": "code",
        "colab": {}
      },
      "source": [
        ""
      ],
      "execution_count": 0,
      "outputs": []
    },
    {
      "cell_type": "code",
      "metadata": {
        "id": "x86LjcjLh0kC",
        "colab_type": "code",
        "colab": {}
      },
      "source": [
        ""
      ],
      "execution_count": 0,
      "outputs": []
    },
    {
      "cell_type": "code",
      "metadata": {
        "id": "EojSoqxzh0he",
        "colab_type": "code",
        "colab": {}
      },
      "source": [
        ""
      ],
      "execution_count": 0,
      "outputs": []
    }
  ]
}