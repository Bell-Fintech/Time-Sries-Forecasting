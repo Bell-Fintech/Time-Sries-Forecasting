{
  "nbformat": 4,
  "nbformat_minor": 0,
  "metadata": {
    "colab": {
      "name": "RNN For Time Series Prediction.ipynb",
      "version": "0.3.2",
      "provenance": [],
      "include_colab_link": true
    },
    "kernelspec": {
      "name": "python3",
      "display_name": "Python 3"
    }
  },
  "cells": [
    {
      "cell_type": "markdown",
      "metadata": {
        "id": "view-in-github",
        "colab_type": "text"
      },
      "source": [
        "<a href=\"https://colab.research.google.com/github/Vishlok/Time-Sries-Forecasting/blob/master/RNN_For_Time_Series_Prediction.ipynb\" target=\"_parent\"><img src=\"https://colab.research.google.com/assets/colab-badge.svg\" alt=\"Open In Colab\"/></a>"
      ]
    },
    {
      "cell_type": "code",
      "metadata": {
        "id": "aQvNFMcmAGFy",
        "colab_type": "code",
        "colab": {}
      },
      "source": [
        "import os\n",
        "import sys\n",
        "import pandas as pd\n",
        "import numpy as np\n",
        "%matplotlib inline\n",
        "from matplotlib import pyplot as plt\n",
        "import seaborn as sns\n",
        "import datetime"
      ],
      "execution_count": 0,
      "outputs": []
    },
    {
      "cell_type": "code",
      "metadata": {
        "id": "j3iVGK7hAKZI",
        "colab_type": "code",
        "colab": {}
      },
      "source": [
        "url = 'https://raw.githubusercontent.com/PacktPublishing/Practical-Time-Series-Analysis/master/Data%20Files/PRSA_data_2010.1.1-2014.12.31.csv'\n",
        "df1 = pd.read_csv(url)"
      ],
      "execution_count": 0,
      "outputs": []
    },
    {
      "cell_type": "code",
      "metadata": {
        "id": "UCT-yL0BAKbK",
        "colab_type": "code",
        "colab": {
          "base_uri": "https://localhost:8080/",
          "height": 199
        },
        "outputId": "5c641715-bbe9-4181-986d-4702a1b2d97e"
      },
      "source": [
        "df = df1\n",
        "df.head()"
      ],
      "execution_count": 5,
      "outputs": [
        {
          "output_type": "execute_result",
          "data": {
            "text/html": [
              "<div>\n",
              "<style scoped>\n",
              "    .dataframe tbody tr th:only-of-type {\n",
              "        vertical-align: middle;\n",
              "    }\n",
              "\n",
              "    .dataframe tbody tr th {\n",
              "        vertical-align: top;\n",
              "    }\n",
              "\n",
              "    .dataframe thead th {\n",
              "        text-align: right;\n",
              "    }\n",
              "</style>\n",
              "<table border=\"1\" class=\"dataframe\">\n",
              "  <thead>\n",
              "    <tr style=\"text-align: right;\">\n",
              "      <th></th>\n",
              "      <th>No</th>\n",
              "      <th>year</th>\n",
              "      <th>month</th>\n",
              "      <th>day</th>\n",
              "      <th>hour</th>\n",
              "      <th>pm2.5</th>\n",
              "      <th>DEWP</th>\n",
              "      <th>TEMP</th>\n",
              "      <th>PRES</th>\n",
              "      <th>cbwd</th>\n",
              "      <th>Iws</th>\n",
              "      <th>Is</th>\n",
              "      <th>Ir</th>\n",
              "    </tr>\n",
              "  </thead>\n",
              "  <tbody>\n",
              "    <tr>\n",
              "      <th>0</th>\n",
              "      <td>1</td>\n",
              "      <td>2010</td>\n",
              "      <td>1</td>\n",
              "      <td>1</td>\n",
              "      <td>0</td>\n",
              "      <td>NaN</td>\n",
              "      <td>-21</td>\n",
              "      <td>-11.0</td>\n",
              "      <td>1021.0</td>\n",
              "      <td>NW</td>\n",
              "      <td>1.79</td>\n",
              "      <td>0</td>\n",
              "      <td>0</td>\n",
              "    </tr>\n",
              "    <tr>\n",
              "      <th>1</th>\n",
              "      <td>2</td>\n",
              "      <td>2010</td>\n",
              "      <td>1</td>\n",
              "      <td>1</td>\n",
              "      <td>1</td>\n",
              "      <td>NaN</td>\n",
              "      <td>-21</td>\n",
              "      <td>-12.0</td>\n",
              "      <td>1020.0</td>\n",
              "      <td>NW</td>\n",
              "      <td>4.92</td>\n",
              "      <td>0</td>\n",
              "      <td>0</td>\n",
              "    </tr>\n",
              "    <tr>\n",
              "      <th>2</th>\n",
              "      <td>3</td>\n",
              "      <td>2010</td>\n",
              "      <td>1</td>\n",
              "      <td>1</td>\n",
              "      <td>2</td>\n",
              "      <td>NaN</td>\n",
              "      <td>-21</td>\n",
              "      <td>-11.0</td>\n",
              "      <td>1019.0</td>\n",
              "      <td>NW</td>\n",
              "      <td>6.71</td>\n",
              "      <td>0</td>\n",
              "      <td>0</td>\n",
              "    </tr>\n",
              "    <tr>\n",
              "      <th>3</th>\n",
              "      <td>4</td>\n",
              "      <td>2010</td>\n",
              "      <td>1</td>\n",
              "      <td>1</td>\n",
              "      <td>3</td>\n",
              "      <td>NaN</td>\n",
              "      <td>-21</td>\n",
              "      <td>-14.0</td>\n",
              "      <td>1019.0</td>\n",
              "      <td>NW</td>\n",
              "      <td>9.84</td>\n",
              "      <td>0</td>\n",
              "      <td>0</td>\n",
              "    </tr>\n",
              "    <tr>\n",
              "      <th>4</th>\n",
              "      <td>5</td>\n",
              "      <td>2010</td>\n",
              "      <td>1</td>\n",
              "      <td>1</td>\n",
              "      <td>4</td>\n",
              "      <td>NaN</td>\n",
              "      <td>-20</td>\n",
              "      <td>-12.0</td>\n",
              "      <td>1018.0</td>\n",
              "      <td>NW</td>\n",
              "      <td>12.97</td>\n",
              "      <td>0</td>\n",
              "      <td>0</td>\n",
              "    </tr>\n",
              "  </tbody>\n",
              "</table>\n",
              "</div>"
            ],
            "text/plain": [
              "   No  year  month  day  hour  pm2.5  DEWP  TEMP    PRES cbwd    Iws  Is  Ir\n",
              "0   1  2010      1    1     0    NaN   -21 -11.0  1021.0   NW   1.79   0   0\n",
              "1   2  2010      1    1     1    NaN   -21 -12.0  1020.0   NW   4.92   0   0\n",
              "2   3  2010      1    1     2    NaN   -21 -11.0  1019.0   NW   6.71   0   0\n",
              "3   4  2010      1    1     3    NaN   -21 -14.0  1019.0   NW   9.84   0   0\n",
              "4   5  2010      1    1     4    NaN   -20 -12.0  1018.0   NW  12.97   0   0"
            ]
          },
          "metadata": {
            "tags": []
          },
          "execution_count": 5
        }
      ]
    },
    {
      "cell_type": "code",
      "metadata": {
        "id": "5sibr1mhAKd4",
        "colab_type": "code",
        "colab": {
          "base_uri": "https://localhost:8080/",
          "height": 34
        },
        "outputId": "06795631-0f08-4ecd-98f0-d1d18af9ea03"
      },
      "source": [
        "print('Shape of the dataframe:', df.shape)\n"
      ],
      "execution_count": 6,
      "outputs": [
        {
          "output_type": "stream",
          "text": [
            "Shape of the dataframe: (43824, 13)\n"
          ],
          "name": "stdout"
        }
      ]
    },
    {
      "cell_type": "code",
      "metadata": {
        "id": "NQyyCbXIAKg1",
        "colab_type": "code",
        "colab": {}
      },
      "source": [
        "df['datetime'] = df[['year', 'month', 'day', 'hour']].apply(lambda row: datetime.datetime(year=row['year'], month=row['month'], day=row['day'],\n",
        "                                                                                          hour=row['hour']), axis=1)\n",
        "df.sort_values('datetime', ascending=True, inplace=True)\n"
      ],
      "execution_count": 0,
      "outputs": []
    },
    {
      "cell_type": "code",
      "metadata": {
        "id": "Kf6BYZqGAKkC",
        "colab_type": "code",
        "colab": {
          "base_uri": "https://localhost:8080/",
          "height": 199
        },
        "outputId": "22ebb9c3-62b1-471f-8328-2f6e9d44fcad"
      },
      "source": [
        "df.head()"
      ],
      "execution_count": 8,
      "outputs": [
        {
          "output_type": "execute_result",
          "data": {
            "text/html": [
              "<div>\n",
              "<style scoped>\n",
              "    .dataframe tbody tr th:only-of-type {\n",
              "        vertical-align: middle;\n",
              "    }\n",
              "\n",
              "    .dataframe tbody tr th {\n",
              "        vertical-align: top;\n",
              "    }\n",
              "\n",
              "    .dataframe thead th {\n",
              "        text-align: right;\n",
              "    }\n",
              "</style>\n",
              "<table border=\"1\" class=\"dataframe\">\n",
              "  <thead>\n",
              "    <tr style=\"text-align: right;\">\n",
              "      <th></th>\n",
              "      <th>No</th>\n",
              "      <th>year</th>\n",
              "      <th>month</th>\n",
              "      <th>day</th>\n",
              "      <th>hour</th>\n",
              "      <th>pm2.5</th>\n",
              "      <th>DEWP</th>\n",
              "      <th>TEMP</th>\n",
              "      <th>PRES</th>\n",
              "      <th>cbwd</th>\n",
              "      <th>Iws</th>\n",
              "      <th>Is</th>\n",
              "      <th>Ir</th>\n",
              "      <th>datetime</th>\n",
              "    </tr>\n",
              "  </thead>\n",
              "  <tbody>\n",
              "    <tr>\n",
              "      <th>0</th>\n",
              "      <td>1</td>\n",
              "      <td>2010</td>\n",
              "      <td>1</td>\n",
              "      <td>1</td>\n",
              "      <td>0</td>\n",
              "      <td>NaN</td>\n",
              "      <td>-21</td>\n",
              "      <td>-11.0</td>\n",
              "      <td>1021.0</td>\n",
              "      <td>NW</td>\n",
              "      <td>1.79</td>\n",
              "      <td>0</td>\n",
              "      <td>0</td>\n",
              "      <td>2010-01-01 00:00:00</td>\n",
              "    </tr>\n",
              "    <tr>\n",
              "      <th>1</th>\n",
              "      <td>2</td>\n",
              "      <td>2010</td>\n",
              "      <td>1</td>\n",
              "      <td>1</td>\n",
              "      <td>1</td>\n",
              "      <td>NaN</td>\n",
              "      <td>-21</td>\n",
              "      <td>-12.0</td>\n",
              "      <td>1020.0</td>\n",
              "      <td>NW</td>\n",
              "      <td>4.92</td>\n",
              "      <td>0</td>\n",
              "      <td>0</td>\n",
              "      <td>2010-01-01 01:00:00</td>\n",
              "    </tr>\n",
              "    <tr>\n",
              "      <th>2</th>\n",
              "      <td>3</td>\n",
              "      <td>2010</td>\n",
              "      <td>1</td>\n",
              "      <td>1</td>\n",
              "      <td>2</td>\n",
              "      <td>NaN</td>\n",
              "      <td>-21</td>\n",
              "      <td>-11.0</td>\n",
              "      <td>1019.0</td>\n",
              "      <td>NW</td>\n",
              "      <td>6.71</td>\n",
              "      <td>0</td>\n",
              "      <td>0</td>\n",
              "      <td>2010-01-01 02:00:00</td>\n",
              "    </tr>\n",
              "    <tr>\n",
              "      <th>3</th>\n",
              "      <td>4</td>\n",
              "      <td>2010</td>\n",
              "      <td>1</td>\n",
              "      <td>1</td>\n",
              "      <td>3</td>\n",
              "      <td>NaN</td>\n",
              "      <td>-21</td>\n",
              "      <td>-14.0</td>\n",
              "      <td>1019.0</td>\n",
              "      <td>NW</td>\n",
              "      <td>9.84</td>\n",
              "      <td>0</td>\n",
              "      <td>0</td>\n",
              "      <td>2010-01-01 03:00:00</td>\n",
              "    </tr>\n",
              "    <tr>\n",
              "      <th>4</th>\n",
              "      <td>5</td>\n",
              "      <td>2010</td>\n",
              "      <td>1</td>\n",
              "      <td>1</td>\n",
              "      <td>4</td>\n",
              "      <td>NaN</td>\n",
              "      <td>-20</td>\n",
              "      <td>-12.0</td>\n",
              "      <td>1018.0</td>\n",
              "      <td>NW</td>\n",
              "      <td>12.97</td>\n",
              "      <td>0</td>\n",
              "      <td>0</td>\n",
              "      <td>2010-01-01 04:00:00</td>\n",
              "    </tr>\n",
              "  </tbody>\n",
              "</table>\n",
              "</div>"
            ],
            "text/plain": [
              "   No  year  month  day  hour  ...  cbwd    Iws  Is  Ir            datetime\n",
              "0   1  2010      1    1     0  ...    NW   1.79   0   0 2010-01-01 00:00:00\n",
              "1   2  2010      1    1     1  ...    NW   4.92   0   0 2010-01-01 01:00:00\n",
              "2   3  2010      1    1     2  ...    NW   6.71   0   0 2010-01-01 02:00:00\n",
              "3   4  2010      1    1     3  ...    NW   9.84   0   0 2010-01-01 03:00:00\n",
              "4   5  2010      1    1     4  ...    NW  12.97   0   0 2010-01-01 04:00:00\n",
              "\n",
              "[5 rows x 14 columns]"
            ]
          },
          "metadata": {
            "tags": []
          },
          "execution_count": 8
        }
      ]
    },
    {
      "cell_type": "code",
      "metadata": {
        "id": "c8osrEV0AKm3",
        "colab_type": "code",
        "colab": {
          "base_uri": "https://localhost:8080/",
          "height": 394
        },
        "outputId": "145fc2c6-d880-43b7-d64d-f6d28d23a510"
      },
      "source": [
        "#Let us draw a box plot to visualize the central tendency and dispersion of PRES\n",
        "plt.figure(figsize=(5.5, 5.5))\n",
        "g = sns.boxplot(df['PRES'])\n",
        "g.set_title('Box plot of Air Pressure')"
      ],
      "execution_count": 9,
      "outputs": [
        {
          "output_type": "execute_result",
          "data": {
            "text/plain": [
              "Text(0.5, 1.0, 'Box plot of Air Pressure')"
            ]
          },
          "metadata": {
            "tags": []
          },
          "execution_count": 9
        },
        {
          "output_type": "display_data",
          "data": {
            "image/png": "[encoded data removed]",
            "text/plain": [
              "<Figure size 396x396 with 1 Axes>"
            ]
          },
          "metadata": {
            "tags": []
          }
        }
      ]
    },
    {
      "cell_type": "code",
      "metadata": {
        "id": "CrNI6u2yAKpx",
        "colab_type": "code",
        "colab": {
          "base_uri": "https://localhost:8080/",
          "height": 450
        },
        "outputId": "cd00e1b4-4beb-401d-c657-fa70c2dc5fba"
      },
      "source": [
        "plt.figure(figsize=(5.5, 5.5))\n",
        "g = sns.tsplot(df['PRES'])\n",
        "g.set_title('Time series of Air Pressure')\n",
        "g.set_xlabel('Index')\n",
        "g.set_ylabel('Air Pressure readings in hPa')"
      ],
      "execution_count": 10,
      "outputs": [
        {
          "output_type": "stream",
          "text": [
            "/usr/local/lib/python3.6/dist-packages/seaborn/timeseries.py:183: UserWarning: The `tsplot` function is deprecated and will be removed in a future release. Please update your code to use the new `lineplot` function.\n",
            "  warnings.warn(msg, UserWarning)\n"
          ],
          "name": "stderr"
        },
        {
          "output_type": "execute_result",
          "data": {
            "text/plain": [
              "Text(0, 0.5, 'Air Pressure readings in hPa')"
            ]
          },
          "metadata": {
            "tags": []
          },
          "execution_count": 10
        },
        {
          "output_type": "display_data",
          "data": {
            "image/png": "[encoded data removed]",
            "text/plain": [
              "<Figure size 396x396 with 1 Axes>"
            ]
          },
          "metadata": {
            "tags": []
          }
        }
      ]
    },
    {
      "cell_type": "code",
      "metadata": {
        "id": "TPKjdDmeAKs2",
        "colab_type": "code",
        "colab": {}
      },
      "source": [
        "from sklearn.preprocessing import MinMaxScaler\n",
        "scaler = MinMaxScaler(feature_range=(0, 1))\n",
        "df['scaled_PRES'] = scaler.fit_transform(np.array(df['PRES']).reshape(-1, 1))"
      ],
      "execution_count": 0,
      "outputs": []
    },
    {
      "cell_type": "code",
      "metadata": {
        "id": "S2R2NLTGAKv5",
        "colab_type": "code",
        "colab": {
          "base_uri": "https://localhost:8080/",
          "height": 52
        },
        "outputId": "5c3ce719-294b-4102-ec66-80fd4f5e2b3d"
      },
      "source": [
        "split_date = datetime.datetime(year=2014, month=1, day=1, hour=0)\n",
        "df_train = df.loc[df['datetime']<split_date]\n",
        "df_val = df.loc[df['datetime']>=split_date]\n",
        "print('Shape of train:', df_train.shape)\n",
        "print('Shape of test:', df_val.shape)"
      ],
      "execution_count": 12,
      "outputs": [
        {
          "output_type": "stream",
          "text": [
            "Shape of train: (35064, 15)\n",
            "Shape of test: (8760, 15)\n"
          ],
          "name": "stdout"
        }
      ]
    },
    {
      "cell_type": "code",
      "metadata": {
        "id": "3Sh4DtnhAKy2",
        "colab_type": "code",
        "colab": {
          "base_uri": "https://localhost:8080/",
          "height": 199
        },
        "outputId": "17b35669-e148-4139-837a-bceaea9517e6"
      },
      "source": [
        "df_train.head()"
      ],
      "execution_count": 15,
      "outputs": [
        {
          "output_type": "execute_result",
          "data": {
            "text/html": [
              "<div>\n",
              "<style scoped>\n",
              "    .dataframe tbody tr th:only-of-type {\n",
              "        vertical-align: middle;\n",
              "    }\n",
              "\n",
              "    .dataframe tbody tr th {\n",
              "        vertical-align: top;\n",
              "    }\n",
              "\n",
              "    .dataframe thead th {\n",
              "        text-align: right;\n",
              "    }\n",
              "</style>\n",
              "<table border=\"1\" class=\"dataframe\">\n",
              "  <thead>\n",
              "    <tr style=\"text-align: right;\">\n",
              "      <th></th>\n",
              "      <th>No</th>\n",
              "      <th>year</th>\n",
              "      <th>month</th>\n",
              "      <th>day</th>\n",
              "      <th>hour</th>\n",
              "      <th>pm2.5</th>\n",
              "      <th>DEWP</th>\n",
              "      <th>TEMP</th>\n",
              "      <th>PRES</th>\n",
              "      <th>cbwd</th>\n",
              "      <th>Iws</th>\n",
              "      <th>Is</th>\n",
              "      <th>Ir</th>\n",
              "      <th>datetime</th>\n",
              "      <th>scaled_PRES</th>\n",
              "    </tr>\n",
              "  </thead>\n",
              "  <tbody>\n",
              "    <tr>\n",
              "      <th>0</th>\n",
              "      <td>1</td>\n",
              "      <td>2010</td>\n",
              "      <td>1</td>\n",
              "      <td>1</td>\n",
              "      <td>0</td>\n",
              "      <td>NaN</td>\n",
              "      <td>-21</td>\n",
              "      <td>-11.0</td>\n",
              "      <td>1021.0</td>\n",
              "      <td>NW</td>\n",
              "      <td>1.79</td>\n",
              "      <td>0</td>\n",
              "      <td>0</td>\n",
              "      <td>2010-01-01 00:00:00</td>\n",
              "      <td>0.545455</td>\n",
              "    </tr>\n",
              "    <tr>\n",
              "      <th>1</th>\n",
              "      <td>2</td>\n",
              "      <td>2010</td>\n",
              "      <td>1</td>\n",
              "      <td>1</td>\n",
              "      <td>1</td>\n",
              "      <td>NaN</td>\n",
              "      <td>-21</td>\n",
              "      <td>-12.0</td>\n",
              "      <td>1020.0</td>\n",
              "      <td>NW</td>\n",
              "      <td>4.92</td>\n",
              "      <td>0</td>\n",
              "      <td>0</td>\n",
              "      <td>2010-01-01 01:00:00</td>\n",
              "      <td>0.527273</td>\n",
              "    </tr>\n",
              "    <tr>\n",
              "      <th>2</th>\n",
              "      <td>3</td>\n",
              "      <td>2010</td>\n",
              "      <td>1</td>\n",
              "      <td>1</td>\n",
              "      <td>2</td>\n",
              "      <td>NaN</td>\n",
              "      <td>-21</td>\n",
              "      <td>-11.0</td>\n",
              "      <td>1019.0</td>\n",
              "      <td>NW</td>\n",
              "      <td>6.71</td>\n",
              "      <td>0</td>\n",
              "      <td>0</td>\n",
              "      <td>2010-01-01 02:00:00</td>\n",
              "      <td>0.509091</td>\n",
              "    </tr>\n",
              "    <tr>\n",
              "      <th>3</th>\n",
              "      <td>4</td>\n",
              "      <td>2010</td>\n",
              "      <td>1</td>\n",
              "      <td>1</td>\n",
              "      <td>3</td>\n",
              "      <td>NaN</td>\n",
              "      <td>-21</td>\n",
              "      <td>-14.0</td>\n",
              "      <td>1019.0</td>\n",
              "      <td>NW</td>\n",
              "      <td>9.84</td>\n",
              "      <td>0</td>\n",
              "      <td>0</td>\n",
              "      <td>2010-01-01 03:00:00</td>\n",
              "      <td>0.509091</td>\n",
              "    </tr>\n",
              "    <tr>\n",
              "      <th>4</th>\n",
              "      <td>5</td>\n",
              "      <td>2010</td>\n",
              "      <td>1</td>\n",
              "      <td>1</td>\n",
              "      <td>4</td>\n",
              "      <td>NaN</td>\n",
              "      <td>-20</td>\n",
              "      <td>-12.0</td>\n",
              "      <td>1018.0</td>\n",
              "      <td>NW</td>\n",
              "      <td>12.97</td>\n",
              "      <td>0</td>\n",
              "      <td>0</td>\n",
              "      <td>2010-01-01 04:00:00</td>\n",
              "      <td>0.490909</td>\n",
              "    </tr>\n",
              "  </tbody>\n",
              "</table>\n",
              "</div>"
            ],
            "text/plain": [
              "   No  year  month  day  hour  ...    Iws  Is  Ir            datetime scaled_PRES\n",
              "0   1  2010      1    1     0  ...   1.79   0   0 2010-01-01 00:00:00    0.545455\n",
              "1   2  2010      1    1     1  ...   4.92   0   0 2010-01-01 01:00:00    0.527273\n",
              "2   3  2010      1    1     2  ...   6.71   0   0 2010-01-01 02:00:00    0.509091\n",
              "3   4  2010      1    1     3  ...   9.84   0   0 2010-01-01 03:00:00    0.509091\n",
              "4   5  2010      1    1     4  ...  12.97   0   0 2010-01-01 04:00:00    0.490909\n",
              "\n",
              "[5 rows x 15 columns]"
            ]
          },
          "metadata": {
            "tags": []
          },
          "execution_count": 15
        }
      ]
    },
    {
      "cell_type": "code",
      "metadata": {
        "id": "ZgYq2nboAK1_",
        "colab_type": "code",
        "colab": {
          "base_uri": "https://localhost:8080/",
          "height": 199
        },
        "outputId": "c1fde9c0-ed27-478e-9e62-8607bf0b4223"
      },
      "source": [
        "df_val.head()"
      ],
      "execution_count": 14,
      "outputs": [
        {
          "output_type": "execute_result",
          "data": {
            "text/html": [
              "<div>\n",
              "<style scoped>\n",
              "    .dataframe tbody tr th:only-of-type {\n",
              "        vertical-align: middle;\n",
              "    }\n",
              "\n",
              "    .dataframe tbody tr th {\n",
              "        vertical-align: top;\n",
              "    }\n",
              "\n",
              "    .dataframe thead th {\n",
              "        text-align: right;\n",
              "    }\n",
              "</style>\n",
              "<table border=\"1\" class=\"dataframe\">\n",
              "  <thead>\n",
              "    <tr style=\"text-align: right;\">\n",
              "      <th></th>\n",
              "      <th>No</th>\n",
              "      <th>year</th>\n",
              "      <th>month</th>\n",
              "      <th>day</th>\n",
              "      <th>hour</th>\n",
              "      <th>pm2.5</th>\n",
              "      <th>DEWP</th>\n",
              "      <th>TEMP</th>\n",
              "      <th>PRES</th>\n",
              "      <th>cbwd</th>\n",
              "      <th>Iws</th>\n",
              "      <th>Is</th>\n",
              "      <th>Ir</th>\n",
              "      <th>datetime</th>\n",
              "      <th>scaled_PRES</th>\n",
              "    </tr>\n",
              "  </thead>\n",
              "  <tbody>\n",
              "    <tr>\n",
              "      <th>35064</th>\n",
              "      <td>35065</td>\n",
              "      <td>2014</td>\n",
              "      <td>1</td>\n",
              "      <td>1</td>\n",
              "      <td>0</td>\n",
              "      <td>24.0</td>\n",
              "      <td>-20</td>\n",
              "      <td>7.0</td>\n",
              "      <td>1014.0</td>\n",
              "      <td>NW</td>\n",
              "      <td>143.48</td>\n",
              "      <td>0</td>\n",
              "      <td>0</td>\n",
              "      <td>2014-01-01 00:00:00</td>\n",
              "      <td>0.418182</td>\n",
              "    </tr>\n",
              "    <tr>\n",
              "      <th>35065</th>\n",
              "      <td>35066</td>\n",
              "      <td>2014</td>\n",
              "      <td>1</td>\n",
              "      <td>1</td>\n",
              "      <td>1</td>\n",
              "      <td>53.0</td>\n",
              "      <td>-20</td>\n",
              "      <td>7.0</td>\n",
              "      <td>1013.0</td>\n",
              "      <td>NW</td>\n",
              "      <td>147.50</td>\n",
              "      <td>0</td>\n",
              "      <td>0</td>\n",
              "      <td>2014-01-01 01:00:00</td>\n",
              "      <td>0.400000</td>\n",
              "    </tr>\n",
              "    <tr>\n",
              "      <th>35066</th>\n",
              "      <td>35067</td>\n",
              "      <td>2014</td>\n",
              "      <td>1</td>\n",
              "      <td>1</td>\n",
              "      <td>2</td>\n",
              "      <td>65.0</td>\n",
              "      <td>-20</td>\n",
              "      <td>6.0</td>\n",
              "      <td>1013.0</td>\n",
              "      <td>NW</td>\n",
              "      <td>151.52</td>\n",
              "      <td>0</td>\n",
              "      <td>0</td>\n",
              "      <td>2014-01-01 02:00:00</td>\n",
              "      <td>0.400000</td>\n",
              "    </tr>\n",
              "    <tr>\n",
              "      <th>35067</th>\n",
              "      <td>35068</td>\n",
              "      <td>2014</td>\n",
              "      <td>1</td>\n",
              "      <td>1</td>\n",
              "      <td>3</td>\n",
              "      <td>70.0</td>\n",
              "      <td>-20</td>\n",
              "      <td>6.0</td>\n",
              "      <td>1013.0</td>\n",
              "      <td>NW</td>\n",
              "      <td>153.31</td>\n",
              "      <td>0</td>\n",
              "      <td>0</td>\n",
              "      <td>2014-01-01 03:00:00</td>\n",
              "      <td>0.400000</td>\n",
              "    </tr>\n",
              "    <tr>\n",
              "      <th>35068</th>\n",
              "      <td>35069</td>\n",
              "      <td>2014</td>\n",
              "      <td>1</td>\n",
              "      <td>1</td>\n",
              "      <td>4</td>\n",
              "      <td>79.0</td>\n",
              "      <td>-18</td>\n",
              "      <td>3.0</td>\n",
              "      <td>1012.0</td>\n",
              "      <td>cv</td>\n",
              "      <td>0.89</td>\n",
              "      <td>0</td>\n",
              "      <td>0</td>\n",
              "      <td>2014-01-01 04:00:00</td>\n",
              "      <td>0.381818</td>\n",
              "    </tr>\n",
              "  </tbody>\n",
              "</table>\n",
              "</div>"
            ],
            "text/plain": [
              "          No  year  month  day  ...  Is  Ir            datetime  scaled_PRES\n",
              "35064  35065  2014      1    1  ...   0   0 2014-01-01 00:00:00     0.418182\n",
              "35065  35066  2014      1    1  ...   0   0 2014-01-01 01:00:00     0.400000\n",
              "35066  35067  2014      1    1  ...   0   0 2014-01-01 02:00:00     0.400000\n",
              "35067  35068  2014      1    1  ...   0   0 2014-01-01 03:00:00     0.400000\n",
              "35068  35069  2014      1    1  ...   0   0 2014-01-01 04:00:00     0.381818\n",
              "\n",
              "[5 rows x 15 columns]"
            ]
          },
          "metadata": {
            "tags": []
          },
          "execution_count": 14
        }
      ]
    },
    {
      "cell_type": "code",
      "metadata": {
        "id": "rcDx4ZumAK5C",
        "colab_type": "code",
        "colab": {}
      },
      "source": [
        "df_val.reset_index(drop=True, inplace=True)"
      ],
      "execution_count": 0,
      "outputs": []
    },
    {
      "cell_type": "code",
      "metadata": {
        "id": "_BUEWFlJAK7_",
        "colab_type": "code",
        "colab": {
          "base_uri": "https://localhost:8080/",
          "height": 845
        },
        "outputId": "d29c0f96-ca6e-4140-b160-50669a3c457b"
      },
      "source": [
        "plt.figure(figsize=(5.5, 5.5))\n",
        "g = sns.tsplot(df_train['scaled_PRES'], color='b')\n",
        "g.set_title('Time series of scaled Air Pressure in train set')\n",
        "g.set_xlabel('Index')\n",
        "g.set_ylabel('Scaled Air Pressure readings')\n",
        "\n",
        "plt.figure(figsize=(5.5, 5.5))\n",
        "g = sns.tsplot(df_val['scaled_PRES'], color='r')\n",
        "g.set_title('Time series of scaled Air Pressure in validation set')\n",
        "g.set_xlabel('Index')\n",
        "g.set_ylabel('Scaled Air Pressure readings')"
      ],
      "execution_count": 17,
      "outputs": [
        {
          "output_type": "stream",
          "text": [
            "/usr/local/lib/python3.6/dist-packages/seaborn/timeseries.py:183: UserWarning: The `tsplot` function is deprecated and will be removed in a future release. Please update your code to use the new `lineplot` function.\n",
            "  warnings.warn(msg, UserWarning)\n",
            "/usr/local/lib/python3.6/dist-packages/seaborn/timeseries.py:183: UserWarning: The `tsplot` function is deprecated and will be removed in a future release. Please update your code to use the new `lineplot` function.\n",
            "  warnings.warn(msg, UserWarning)\n"
          ],
          "name": "stderr"
        },
        {
          "output_type": "execute_result",
          "data": {
            "text/plain": [
              "Text(0, 0.5, 'Scaled Air Pressure readings')"
            ]
          },
          "metadata": {
            "tags": []
          },
          "execution_count": 17
        },
        {
          "output_type": "display_data",
          "data": {
            "image/png": "[encoded data removed]",
            "text/plain": [
              "<Figure size 396x396 with 1 Axes>"
            ]
          },
          "metadata": {
            "tags": []
          }
        },
        {
          "output_type": "display_data",
          "data": {
            "image/png": "[encoded data removed]",
            "text/plain": [
              "<Figure size 396x396 with 1 Axes>"
            ]
          },
          "metadata": {
            "tags": []
          }
        }
      ]
    },
    {
      "cell_type": "code",
      "metadata": {
        "id": "zAgEezdQAK-z",
        "colab_type": "code",
        "colab": {}
      },
      "source": [
        "def makeXy(ts, nb_timesteps):\n",
        "    \"\"\"\n",
        "    Input: \n",
        "           ts: original time series\n",
        "           nb_timesteps: number of time steps in the regressors\n",
        "    Output: \n",
        "           X: 2-D array of regressors\n",
        "           y: 1-D array of target \n",
        "    \"\"\"\n",
        "    X = []\n",
        "    y = []\n",
        "    for i in range(nb_timesteps, ts.shape[0]):\n",
        "        X.append(list(ts.loc[i-nb_timesteps:i-1]))\n",
        "        y.append(ts.loc[i])\n",
        "    X, y = np.array(X), np.array(y)\n",
        "    return X, y\n"
      ],
      "execution_count": 0,
      "outputs": []
    },
    {
      "cell_type": "code",
      "metadata": {
        "id": "E6ASCxAgALCL",
        "colab_type": "code",
        "colab": {
          "base_uri": "https://localhost:8080/",
          "height": 34
        },
        "outputId": "a3418190-0ee2-4719-f544-d09cb8eeb480"
      },
      "source": [
        "X_train, y_train = makeXy(df_train['scaled_PRES'], 7)\n",
        "print('Shape of train arrays:', X_train.shape, y_train.shape)"
      ],
      "execution_count": 19,
      "outputs": [
        {
          "output_type": "stream",
          "text": [
            "Shape of train arrays: (35057, 7) (35057,)\n"
          ],
          "name": "stdout"
        }
      ]
    },
    {
      "cell_type": "code",
      "metadata": {
        "id": "HuI-k7nFALFV",
        "colab_type": "code",
        "colab": {
          "base_uri": "https://localhost:8080/",
          "height": 34
        },
        "outputId": "73a5b9d2-b930-458e-e891-8b37ed65d86c"
      },
      "source": [
        "X_val, y_val = makeXy(df_val['scaled_PRES'], 7)\n",
        "print('Shape of validation arrays:', X_val.shape, y_val.shape)"
      ],
      "execution_count": 20,
      "outputs": [
        {
          "output_type": "stream",
          "text": [
            "Shape of validation arrays: (8753, 7) (8753,)\n"
          ],
          "name": "stdout"
        }
      ]
    },
    {
      "cell_type": "code",
      "metadata": {
        "id": "kcfT4QHoALIg",
        "colab_type": "code",
        "colab": {
          "base_uri": "https://localhost:8080/",
          "height": 34
        },
        "outputId": "20f84881-a0ce-4b06-843b-bba85b9f5086"
      },
      "source": [
        "X_train, X_val = X_train.reshape((X_train.shape[0], X_train.shape[1], 1)),\\\n",
        "                 X_val.reshape((X_val.shape[0], X_val.shape[1], 1))\n",
        "print('Shape of 3D arrays:', X_train.shape, X_val.shape)"
      ],
      "execution_count": 21,
      "outputs": [
        {
          "output_type": "stream",
          "text": [
            "Shape of 3D arrays: (35057, 7, 1) (8753, 7, 1)\n"
          ],
          "name": "stdout"
        }
      ]
    },
    {
      "cell_type": "code",
      "metadata": {
        "id": "wdugzcyuALLp",
        "colab_type": "code",
        "colab": {
          "base_uri": "https://localhost:8080/",
          "height": 34
        },
        "outputId": "ad83afd3-5438-4004-edb3-9c0791c02d50"
      },
      "source": [
        "from keras.layers import Dense, Input, Dropout\n",
        "from keras.layers.recurrent import LSTM\n",
        "from keras.optimizers import SGD\n",
        "from keras.models import Model\n",
        "from keras.models import load_model\n",
        "from keras.callbacks import ModelCheckpoint"
      ],
      "execution_count": 22,
      "outputs": [
        {
          "output_type": "stream",
          "text": [
            "Using TensorFlow backend.\n"
          ],
          "name": "stderr"
        }
      ]
    },
    {
      "cell_type": "code",
      "metadata": {
        "id": "xQOaXfo_ALPA",
        "colab_type": "code",
        "colab": {}
      },
      "source": [
        "#Define input layer which has shape (None, 7) and of type float32. None indicates the number of instances\n",
        "input_layer = Input(shape=(7,1), dtype='float32')"
      ],
      "execution_count": 0,
      "outputs": []
    },
    {
      "cell_type": "code",
      "metadata": {
        "id": "nFzjLJI2ALSf",
        "colab_type": "code",
        "colab": {
          "base_uri": "https://localhost:8080/",
          "height": 90
        },
        "outputId": "994161e0-6a22-4c61-e69e-7d763a5e9d46"
      },
      "source": [
        "#LSTM layer is defined for seven timesteps\n",
        "lstm_layer = LSTM(64, input_shape=(7,1), return_sequences=False)(input_layer)"
      ],
      "execution_count": 24,
      "outputs": [
        {
          "output_type": "stream",
          "text": [
            "WARNING:tensorflow:From /usr/local/lib/python3.6/dist-packages/tensorflow/python/framework/op_def_library.py:263: colocate_with (from tensorflow.python.framework.ops) is deprecated and will be removed in a future version.\n",
            "Instructions for updating:\n",
            "Colocations handled automatically by placer.\n"
          ],
          "name": "stdout"
        }
      ]
    },
    {
      "cell_type": "code",
      "metadata": {
        "id": "-at_7ILnALVc",
        "colab_type": "code",
        "colab": {
          "base_uri": "https://localhost:8080/",
          "height": 90
        },
        "outputId": "902acfe0-bf05-41d3-fdc0-cc8832c198d3"
      },
      "source": [
        "dropout_layer = Dropout(0.2)(lstm_layer)"
      ],
      "execution_count": 25,
      "outputs": [
        {
          "output_type": "stream",
          "text": [
            "WARNING:tensorflow:From /usr/local/lib/python3.6/dist-packages/keras/backend/tensorflow_backend.py:3445: calling dropout (from tensorflow.python.ops.nn_ops) with keep_prob is deprecated and will be removed in a future version.\n",
            "Instructions for updating:\n",
            "Please use `rate` instead of `keep_prob`. Rate should be set to `rate = 1 - keep_prob`.\n"
          ],
          "name": "stdout"
        }
      ]
    },
    {
      "cell_type": "code",
      "metadata": {
        "id": "OGYEDQ1TALY4",
        "colab_type": "code",
        "colab": {}
      },
      "source": [
        "#Finally the output layer gives prediction for the next day's air pressure.\n",
        "output_layer = Dense(1, activation='linear')(dropout_layer)\n"
      ],
      "execution_count": 0,
      "outputs": []
    },
    {
      "cell_type": "code",
      "metadata": {
        "id": "FR1Ib0JQALcw",
        "colab_type": "code",
        "colab": {
          "base_uri": "https://localhost:8080/",
          "height": 280
        },
        "outputId": "df73cc37-c2a2-4950-c784-4fbce5190d7e"
      },
      "source": [
        "ts_model = Model(inputs=input_layer, outputs=output_layer)\n",
        "ts_model.compile(loss='mae', optimizer='adam')\n",
        "ts_model.summary()\n"
      ],
      "execution_count": 27,
      "outputs": [
        {
          "output_type": "stream",
          "text": [
            "_________________________________________________________________\n",
            "Layer (type)                 Output Shape              Param #   \n",
            "=================================================================\n",
            "input_1 (InputLayer)         (None, 7, 1)              0         \n",
            "_________________________________________________________________\n",
            "lstm_1 (LSTM)                (None, 64)                16896     \n",
            "_________________________________________________________________\n",
            "dropout_1 (Dropout)          (None, 64)                0         \n",
            "_________________________________________________________________\n",
            "dense_1 (Dense)              (None, 1)                 65        \n",
            "=================================================================\n",
            "Total params: 16,961\n",
            "Trainable params: 16,961\n",
            "Non-trainable params: 0\n",
            "_________________________________________________________________\n"
          ],
          "name": "stdout"
        }
      ]
    },
    {
      "cell_type": "code",
      "metadata": {
        "id": "Fo1gcrhHALhD",
        "colab_type": "code",
        "colab": {
          "base_uri": "https://localhost:8080/",
          "height": 828
        },
        "outputId": "22ae28e5-d104-401a-e8bc-699dfd2d76e1"
      },
      "source": [
        "ts_model.fit(x=X_train, y=y_train, batch_size=16, epochs=20,\n",
        "             verbose=1, validation_data=(X_val, y_val),\n",
        "             shuffle=True)\n"
      ],
      "execution_count": 29,
      "outputs": [
        {
          "output_type": "stream",
          "text": [
            "WARNING:tensorflow:From /usr/local/lib/python3.6/dist-packages/tensorflow/python/ops/math_ops.py:3066: to_int32 (from tensorflow.python.ops.math_ops) is deprecated and will be removed in a future version.\n",
            "Instructions for updating:\n",
            "Use tf.cast instead.\n",
            "Train on 35057 samples, validate on 8753 samples\n",
            "Epoch 1/20\n",
            "35057/35057 [==============================] - 13s 374us/step - loss: 0.0304 - val_loss: 0.0203\n",
            "Epoch 2/20\n",
            "35057/35057 [==============================] - 12s 335us/step - loss: 0.0188 - val_loss: 0.0109\n",
            "Epoch 3/20\n",
            "35057/35057 [==============================] - 12s 332us/step - loss: 0.0153 - val_loss: 0.0103\n",
            "Epoch 4/20\n",
            "35057/35057 [==============================] - 12s 329us/step - loss: 0.0143 - val_loss: 0.0093\n",
            "Epoch 5/20\n",
            "35057/35057 [==============================] - 12s 331us/step - loss: 0.0139 - val_loss: 0.0102\n",
            "Epoch 6/20\n",
            "35057/35057 [==============================] - 12s 329us/step - loss: 0.0136 - val_loss: 0.0088\n",
            "Epoch 7/20\n",
            "35057/35057 [==============================] - 11s 327us/step - loss: 0.0136 - val_loss: 0.0087\n",
            "Epoch 8/20\n",
            "35057/35057 [==============================] - 11s 326us/step - loss: 0.0134 - val_loss: 0.0092\n",
            "Epoch 9/20\n",
            "35057/35057 [==============================] - 11s 324us/step - loss: 0.0134 - val_loss: 0.0092\n",
            "Epoch 10/20\n",
            "35057/35057 [==============================] - 12s 329us/step - loss: 0.0133 - val_loss: 0.0089\n",
            "Epoch 11/20\n",
            "35057/35057 [==============================] - 12s 339us/step - loss: 0.0134 - val_loss: 0.0098\n",
            "Epoch 12/20\n",
            "35057/35057 [==============================] - 12s 336us/step - loss: 0.0132 - val_loss: 0.0090\n",
            "Epoch 13/20\n",
            "35057/35057 [==============================] - 12s 334us/step - loss: 0.0133 - val_loss: 0.0088\n",
            "Epoch 14/20\n",
            "35057/35057 [==============================] - 12s 334us/step - loss: 0.0132 - val_loss: 0.0096\n",
            "Epoch 15/20\n",
            "35057/35057 [==============================] - 12s 339us/step - loss: 0.0132 - val_loss: 0.0093\n",
            "Epoch 16/20\n",
            "35057/35057 [==============================] - 12s 342us/step - loss: 0.0133 - val_loss: 0.0087\n",
            "Epoch 17/20\n",
            "35057/35057 [==============================] - 12s 332us/step - loss: 0.0132 - val_loss: 0.0086\n",
            "Epoch 18/20\n",
            "35057/35057 [==============================] - 12s 333us/step - loss: 0.0132 - val_loss: 0.0121\n",
            "Epoch 19/20\n",
            "35057/35057 [==============================] - 12s 333us/step - loss: 0.0132 - val_loss: 0.0093\n",
            "Epoch 20/20\n",
            "35057/35057 [==============================] - 12s 333us/step - loss: 0.0132 - val_loss: 0.0089\n"
          ],
          "name": "stdout"
        },
        {
          "output_type": "execute_result",
          "data": {
            "text/plain": [
              "<keras.callbacks.History at 0x7f950858bd68>"
            ]
          },
          "metadata": {
            "tags": []
          },
          "execution_count": 29
        }
      ]
    },
    {
      "cell_type": "code",
      "metadata": {
        "id": "22IYkrtrD8y8",
        "colab_type": "code",
        "colab": {}
      },
      "source": [
        "preds = ts_model.predict(X_val)\n",
        "pred_PRES = scaler.inverse_transform(preds)\n",
        "pred_PRES = np.squeeze(pred_PRES)"
      ],
      "execution_count": 0,
      "outputs": []
    },
    {
      "cell_type": "code",
      "metadata": {
        "id": "Fg8FyrD4D9CW",
        "colab_type": "code",
        "colab": {
          "base_uri": "https://localhost:8080/",
          "height": 34
        },
        "outputId": "3d4f303c-0f94-42d0-a446-db154b22914e"
      },
      "source": [
        "from sklearn.metrics import r2_score\n",
        "r2 = r2_score(df_val['PRES'].loc[7:], pred_PRES)\n",
        "print('R-squared on validation set of the original air pressure:', r2)"
      ],
      "execution_count": 31,
      "outputs": [
        {
          "output_type": "stream",
          "text": [
            "R-squared on validation set of the original air pressure: 0.9956576703631698\n"
          ],
          "name": "stdout"
        }
      ]
    },
    {
      "cell_type": "code",
      "metadata": {
        "id": "iOhsKVIZD9Hc",
        "colab_type": "code",
        "colab": {
          "base_uri": "https://localhost:8080/",
          "height": 394
        },
        "outputId": "6077c385-0399-47d3-f0e9-ebe11939fd72"
      },
      "source": [
        "#Let's plot the first 50 actual and predicted values of air pressure.\n",
        "plt.figure(figsize=(5.5, 5.5))\n",
        "plt.plot(range(50), df_val['PRES'].loc[7:56], linestyle='-', marker='*', color='r')\n",
        "plt.plot(range(50), pred_PRES[:50], linestyle='-', marker='.', color='b')\n",
        "plt.legend(['Actual','Predicted'], loc=2)\n",
        "plt.title('Actual vs Predicted Air Pressure')\n",
        "plt.ylabel('Air Pressure')\n",
        "plt.xlabel('Index')\n",
        "#plt.savefig('plots/ch5/B07887_05_11.png', format='png', dpi=300)"
      ],
      "execution_count": 33,
      "outputs": [
        {
          "output_type": "execute_result",
          "data": {
            "text/plain": [
              "Text(0.5, 0, 'Index')"
            ]
          },
          "metadata": {
            "tags": []
          },
          "execution_count": 33
        },
        {
          "output_type": "display_data",
          "data": {
            "image/png": "[encoded data removed]",
            "text/plain": [
              "<Figure size 396x396 with 1 Axes>"
            ]
          },
          "metadata": {
            "tags": []
          }
        }
      ]
    },
    {
      "cell_type": "code",
      "metadata": {
        "id": "Rv2nda6ND9Lk",
        "colab_type": "code",
        "colab": {}
      },
      "source": [
        ""
      ],
      "execution_count": 0,
      "outputs": []
    },
    {
      "cell_type": "code",
      "metadata": {
        "id": "vkiOIhqsD9P5",
        "colab_type": "code",
        "colab": {}
      },
      "source": [
        ""
      ],
      "execution_count": 0,
      "outputs": []
    },
    {
      "cell_type": "code",
      "metadata": {
        "id": "AFXXfpSND9FH",
        "colab_type": "code",
        "colab": {}
      },
      "source": [
        ""
      ],
      "execution_count": 0,
      "outputs": []
    }
  ]
}